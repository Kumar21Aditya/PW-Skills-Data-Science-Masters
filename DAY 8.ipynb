{
 "cells": [
  {
   "cell_type": "markdown",
   "id": "0b943483",
   "metadata": {},
   "source": [
    "# Decorator"
   ]
  },
  {
   "cell_type": "code",
   "execution_count": 1,
   "id": "a88e603d",
   "metadata": {},
   "outputs": [],
   "source": [
    "def test():\n",
    "    print(\"start\")\n",
    "    print(3+5)\n",
    "    print(\"End\")"
   ]
  },
  {
   "cell_type": "code",
   "execution_count": 2,
   "id": "2c48abae",
   "metadata": {},
   "outputs": [
    {
     "name": "stdout",
     "output_type": "stream",
     "text": [
      "start\n",
      "8\n",
      "End\n"
     ]
    }
   ],
   "source": [
    "test()"
   ]
  },
  {
   "cell_type": "code",
   "execution_count": 3,
   "id": "4757d773",
   "metadata": {},
   "outputs": [],
   "source": [
    "def deco(func):\n",
    "    def inner_deco():\n",
    "        print(\"start\")\n",
    "        func()\n",
    "        print(\"End\")\n",
    "    return inner_deco    "
   ]
  },
  {
   "cell_type": "code",
   "execution_count": 6,
   "id": "154815a4",
   "metadata": {},
   "outputs": [],
   "source": [
    "@deco\n",
    "def test1():\n",
    "    print(4+5)"
   ]
  },
  {
   "cell_type": "code",
   "execution_count": 8,
   "id": "e5467805",
   "metadata": {},
   "outputs": [
    {
     "name": "stdout",
     "output_type": "stream",
     "text": [
      "start\n",
      "9\n",
      "End\n"
     ]
    }
   ],
   "source": [
    "test1()"
   ]
  },
  {
   "cell_type": "code",
   "execution_count": 9,
   "id": "d49d159f",
   "metadata": {},
   "outputs": [],
   "source": [
    "import time\n",
    "def timer(func):\n",
    "    def timer_inner():\n",
    "        start=time.time()\n",
    "        func()\n",
    "        end=time.time()\n",
    "        print(end-start)\n",
    "    return timer_inner    "
   ]
  },
  {
   "cell_type": "code",
   "execution_count": 10,
   "id": "3d69deb7",
   "metadata": {},
   "outputs": [],
   "source": [
    "def test2():\n",
    "    print(45+67)"
   ]
  },
  {
   "cell_type": "code",
   "execution_count": 11,
   "id": "b59b26c5",
   "metadata": {},
   "outputs": [
    {
     "name": "stdout",
     "output_type": "stream",
     "text": [
      "112\n"
     ]
    }
   ],
   "source": [
    "test2()"
   ]
  },
  {
   "cell_type": "code",
   "execution_count": 12,
   "id": "146fa338",
   "metadata": {},
   "outputs": [],
   "source": [
    "@timer\n",
    "def test2():\n",
    "    print(45+67)"
   ]
  },
  {
   "cell_type": "code",
   "execution_count": 13,
   "id": "4ae24798",
   "metadata": {},
   "outputs": [
    {
     "name": "stdout",
     "output_type": "stream",
     "text": [
      "112\n",
      "0.0\n"
     ]
    }
   ],
   "source": [
    "test2()"
   ]
  },
  {
   "cell_type": "code",
   "execution_count": 15,
   "id": "49f0ea4e",
   "metadata": {},
   "outputs": [],
   "source": [
    "@timer\n",
    "def test3():\n",
    "    for i in range(10000000):\n",
    "        pass"
   ]
  },
  {
   "cell_type": "code",
   "execution_count": 16,
   "id": "02dd91b0",
   "metadata": {},
   "outputs": [
    {
     "name": "stdout",
     "output_type": "stream",
     "text": [
      "0.289569616317749\n"
     ]
    }
   ],
   "source": [
    "test3()"
   ]
  },
  {
   "cell_type": "markdown",
   "id": "97d9d248",
   "metadata": {},
   "source": [
    "# Class Method"
   ]
  },
  {
   "cell_type": "code",
   "execution_count": 17,
   "id": "0db7f534",
   "metadata": {},
   "outputs": [],
   "source": [
    "class pw_skills:\n",
    "    def __init__(self,name,email):\n",
    "        self.name=name\n",
    "        self.email=email\n",
    "    def student(self):\n",
    "        print(self.name,self.email)"
   ]
  },
  {
   "cell_type": "code",
   "execution_count": 18,
   "id": "e62a8213",
   "metadata": {},
   "outputs": [],
   "source": [
    "obj=pw_skills(\"adi\",\"adi@gmail.com\")"
   ]
  },
  {
   "cell_type": "code",
   "execution_count": 19,
   "id": "923c6c60",
   "metadata": {},
   "outputs": [
    {
     "data": {
      "text/plain": [
       "'adi'"
      ]
     },
     "execution_count": 19,
     "metadata": {},
     "output_type": "execute_result"
    }
   ],
   "source": [
    "obj.name"
   ]
  },
  {
   "cell_type": "code",
   "execution_count": 20,
   "id": "0dfc78e2",
   "metadata": {},
   "outputs": [
    {
     "data": {
      "text/plain": [
       "'adi@gmail.com'"
      ]
     },
     "execution_count": 20,
     "metadata": {},
     "output_type": "execute_result"
    }
   ],
   "source": [
    "obj.email"
   ]
  },
  {
   "cell_type": "code",
   "execution_count": 21,
   "id": "c7904772",
   "metadata": {},
   "outputs": [
    {
     "name": "stdout",
     "output_type": "stream",
     "text": [
      "adi adi@gmail.com\n"
     ]
    }
   ],
   "source": [
    "obj.student()"
   ]
  },
  {
   "cell_type": "code",
   "execution_count": 22,
   "id": "87664fcd",
   "metadata": {},
   "outputs": [],
   "source": [
    "class pw_skills1:\n",
    "    def __init__(self,name,email):\n",
    "        self.name=name\n",
    "        self.email=email\n",
    "    @classmethod    \n",
    "    def details(cls,name,email):\n",
    "        return cls(name,email)\n",
    "    \n",
    "    def student(self):\n",
    "        print(self.name,self.email)"
   ]
  },
  {
   "cell_type": "code",
   "execution_count": 23,
   "id": "f1627fac",
   "metadata": {},
   "outputs": [],
   "source": [
    "pw1=pw_skills1(\"abd\",\"add@gmail.com\")"
   ]
  },
  {
   "cell_type": "code",
   "execution_count": 24,
   "id": "3ae31183",
   "metadata": {},
   "outputs": [
    {
     "data": {
      "text/plain": [
       "'abd'"
      ]
     },
     "execution_count": 24,
     "metadata": {},
     "output_type": "execute_result"
    }
   ],
   "source": [
    "pw1.name"
   ]
  },
  {
   "cell_type": "code",
   "execution_count": 25,
   "id": "4e4d9d55",
   "metadata": {},
   "outputs": [
    {
     "data": {
      "text/plain": [
       "'add@gmail.com'"
      ]
     },
     "execution_count": 25,
     "metadata": {},
     "output_type": "execute_result"
    }
   ],
   "source": [
    "pw1.email"
   ]
  },
  {
   "cell_type": "code",
   "execution_count": 27,
   "id": "b970d5b2",
   "metadata": {},
   "outputs": [
    {
     "name": "stdout",
     "output_type": "stream",
     "text": [
      "abd add@gmail.com\n"
     ]
    }
   ],
   "source": [
    "pw1.student()"
   ]
  },
  {
   "cell_type": "code",
   "execution_count": 33,
   "id": "4dcf02c7",
   "metadata": {},
   "outputs": [],
   "source": [
    "class pw_skills2:\n",
    "    mobile_number=23456789\n",
    "    def __init__(self,name,email):\n",
    "        self.name=name\n",
    "        self.email=email\n",
    "    @classmethod    \n",
    "    def details(cls,name,email):\n",
    "        return cls(name,email)\n",
    "    \n",
    "    def student(self):\n",
    "        print(self.name,self.email,pwskills2.mobile_number)"
   ]
  },
  {
   "cell_type": "code",
   "execution_count": 34,
   "id": "3fb3ac62",
   "metadata": {},
   "outputs": [],
   "source": [
    "pw2=pw_skills2('sohan',\"sohan@gmail.com\")"
   ]
  },
  {
   "cell_type": "code",
   "execution_count": 36,
   "id": "37b505aa",
   "metadata": {},
   "outputs": [
    {
     "data": {
      "text/plain": [
       "23456789"
      ]
     },
     "execution_count": 36,
     "metadata": {},
     "output_type": "execute_result"
    }
   ],
   "source": [
    "pw_skills2.mobile_number"
   ]
  },
  {
   "cell_type": "code",
   "execution_count": 37,
   "id": "be26b4e1",
   "metadata": {},
   "outputs": [
    {
     "data": {
      "text/plain": [
       "'sohan'"
      ]
     },
     "execution_count": 37,
     "metadata": {},
     "output_type": "execute_result"
    }
   ],
   "source": [
    "pw2.name"
   ]
  },
  {
   "cell_type": "markdown",
   "id": "5466159f",
   "metadata": {},
   "source": [
    "# Static methods"
   ]
  },
  {
   "cell_type": "code",
   "execution_count": 39,
   "id": "064fed0c",
   "metadata": {},
   "outputs": [],
   "source": [
    "class pw:\n",
    "    def student(self,name,mail,number):\n",
    "        print(name,mail,number)\n",
    "    "
   ]
  },
  {
   "cell_type": "code",
   "execution_count": 40,
   "id": "19226b44",
   "metadata": {},
   "outputs": [],
   "source": [
    "obj=pw()"
   ]
  },
  {
   "cell_type": "code",
   "execution_count": 41,
   "id": "5d8af87c",
   "metadata": {},
   "outputs": [
    {
     "name": "stdout",
     "output_type": "stream",
     "text": [
      "adi adi@gmail.com 78362398\n"
     ]
    }
   ],
   "source": [
    "obj.student(\"adi\",\"adi@gmail.com\",78362398)"
   ]
  },
  {
   "cell_type": "code",
   "execution_count": 43,
   "id": "b26144db",
   "metadata": {},
   "outputs": [],
   "source": [
    "class pw1:\n",
    "    def student(self,name,mail,number):\n",
    "        print(name,mail,number)\n",
    "    @staticmethod\n",
    "    def mentor(list_mentor):\n",
    "        print(list_mentor)"
   ]
  },
  {
   "cell_type": "code",
   "execution_count": 44,
   "id": "1c099d99",
   "metadata": {},
   "outputs": [
    {
     "name": "stdout",
     "output_type": "stream",
     "text": [
      "['abv', 'asd']\n"
     ]
    }
   ],
   "source": [
    "pw1.mentor([\"abv\",\"asd\"])"
   ]
  },
  {
   "cell_type": "code",
   "execution_count": 45,
   "id": "4f5aa50f",
   "metadata": {},
   "outputs": [],
   "source": [
    "obj2=pw1()"
   ]
  },
  {
   "cell_type": "code",
   "execution_count": 46,
   "id": "00e1af08",
   "metadata": {},
   "outputs": [
    {
     "name": "stdout",
     "output_type": "stream",
     "text": [
      "['aaa', 'bbb']\n"
     ]
    }
   ],
   "source": [
    "obj2.mentor([\"aaa\",\"bbb\"])"
   ]
  },
  {
   "cell_type": "markdown",
   "id": "1e6c1df5",
   "metadata": {},
   "source": [
    "# Magic/Dunder method"
   ]
  },
  {
   "cell_type": "code",
   "execution_count": 47,
   "id": "2fa019ab",
   "metadata": {},
   "outputs": [
    {
     "data": {
      "text/plain": [
       "['__abs__',\n",
       " '__add__',\n",
       " '__and__',\n",
       " '__bool__',\n",
       " '__ceil__',\n",
       " '__class__',\n",
       " '__delattr__',\n",
       " '__dir__',\n",
       " '__divmod__',\n",
       " '__doc__',\n",
       " '__eq__',\n",
       " '__float__',\n",
       " '__floor__',\n",
       " '__floordiv__',\n",
       " '__format__',\n",
       " '__ge__',\n",
       " '__getattribute__',\n",
       " '__getnewargs__',\n",
       " '__getstate__',\n",
       " '__gt__',\n",
       " '__hash__',\n",
       " '__index__',\n",
       " '__init__',\n",
       " '__init_subclass__',\n",
       " '__int__',\n",
       " '__invert__',\n",
       " '__le__',\n",
       " '__lshift__',\n",
       " '__lt__',\n",
       " '__mod__',\n",
       " '__mul__',\n",
       " '__ne__',\n",
       " '__neg__',\n",
       " '__new__',\n",
       " '__or__',\n",
       " '__pos__',\n",
       " '__pow__',\n",
       " '__radd__',\n",
       " '__rand__',\n",
       " '__rdivmod__',\n",
       " '__reduce__',\n",
       " '__reduce_ex__',\n",
       " '__repr__',\n",
       " '__rfloordiv__',\n",
       " '__rlshift__',\n",
       " '__rmod__',\n",
       " '__rmul__',\n",
       " '__ror__',\n",
       " '__round__',\n",
       " '__rpow__',\n",
       " '__rrshift__',\n",
       " '__rshift__',\n",
       " '__rsub__',\n",
       " '__rtruediv__',\n",
       " '__rxor__',\n",
       " '__setattr__',\n",
       " '__sizeof__',\n",
       " '__str__',\n",
       " '__sub__',\n",
       " '__subclasshook__',\n",
       " '__truediv__',\n",
       " '__trunc__',\n",
       " '__xor__',\n",
       " 'as_integer_ratio',\n",
       " 'bit_count',\n",
       " 'bit_length',\n",
       " 'conjugate',\n",
       " 'denominator',\n",
       " 'from_bytes',\n",
       " 'imag',\n",
       " 'numerator',\n",
       " 'real',\n",
       " 'to_bytes']"
      ]
     },
     "execution_count": 47,
     "metadata": {},
     "output_type": "execute_result"
    }
   ],
   "source": [
    "dir(int)"
   ]
  },
  {
   "cell_type": "code",
   "execution_count": 48,
   "id": "6d29b7b1",
   "metadata": {},
   "outputs": [],
   "source": [
    "a=12\n",
    "b=19"
   ]
  },
  {
   "cell_type": "code",
   "execution_count": 49,
   "id": "27713694",
   "metadata": {},
   "outputs": [
    {
     "data": {
      "text/plain": [
       "31"
      ]
     },
     "execution_count": 49,
     "metadata": {},
     "output_type": "execute_result"
    }
   ],
   "source": [
    "a.__add__(b)"
   ]
  },
  {
   "cell_type": "code",
   "execution_count": 50,
   "id": "576adbdf",
   "metadata": {},
   "outputs": [
    {
     "data": {
      "text/plain": [
       "['__add__',\n",
       " '__class__',\n",
       " '__contains__',\n",
       " '__delattr__',\n",
       " '__dir__',\n",
       " '__doc__',\n",
       " '__eq__',\n",
       " '__format__',\n",
       " '__ge__',\n",
       " '__getattribute__',\n",
       " '__getitem__',\n",
       " '__getnewargs__',\n",
       " '__getstate__',\n",
       " '__gt__',\n",
       " '__hash__',\n",
       " '__init__',\n",
       " '__init_subclass__',\n",
       " '__iter__',\n",
       " '__le__',\n",
       " '__len__',\n",
       " '__lt__',\n",
       " '__mod__',\n",
       " '__mul__',\n",
       " '__ne__',\n",
       " '__new__',\n",
       " '__reduce__',\n",
       " '__reduce_ex__',\n",
       " '__repr__',\n",
       " '__rmod__',\n",
       " '__rmul__',\n",
       " '__setattr__',\n",
       " '__sizeof__',\n",
       " '__str__',\n",
       " '__subclasshook__',\n",
       " 'capitalize',\n",
       " 'casefold',\n",
       " 'center',\n",
       " 'count',\n",
       " 'encode',\n",
       " 'endswith',\n",
       " 'expandtabs',\n",
       " 'find',\n",
       " 'format',\n",
       " 'format_map',\n",
       " 'index',\n",
       " 'isalnum',\n",
       " 'isalpha',\n",
       " 'isascii',\n",
       " 'isdecimal',\n",
       " 'isdigit',\n",
       " 'isidentifier',\n",
       " 'islower',\n",
       " 'isnumeric',\n",
       " 'isprintable',\n",
       " 'isspace',\n",
       " 'istitle',\n",
       " 'isupper',\n",
       " 'join',\n",
       " 'ljust',\n",
       " 'lower',\n",
       " 'lstrip',\n",
       " 'maketrans',\n",
       " 'partition',\n",
       " 'removeprefix',\n",
       " 'removesuffix',\n",
       " 'replace',\n",
       " 'rfind',\n",
       " 'rindex',\n",
       " 'rjust',\n",
       " 'rpartition',\n",
       " 'rsplit',\n",
       " 'rstrip',\n",
       " 'split',\n",
       " 'splitlines',\n",
       " 'startswith',\n",
       " 'strip',\n",
       " 'swapcase',\n",
       " 'title',\n",
       " 'translate',\n",
       " 'upper',\n",
       " 'zfill']"
      ]
     },
     "execution_count": 50,
     "metadata": {},
     "output_type": "execute_result"
    }
   ],
   "source": [
    "dir(str)"
   ]
  },
  {
   "cell_type": "code",
   "execution_count": 53,
   "id": "2b863ef6",
   "metadata": {},
   "outputs": [],
   "source": [
    "class pw3:\n",
    "    def __init__(self):\n",
    "        print(\"This is my  init\")"
   ]
  },
  {
   "cell_type": "code",
   "execution_count": 54,
   "id": "f5f83132",
   "metadata": {},
   "outputs": [
    {
     "name": "stdout",
     "output_type": "stream",
     "text": [
      "This is my  init\n"
     ]
    }
   ],
   "source": [
    "pw=pw3()"
   ]
  },
  {
   "cell_type": "code",
   "execution_count": 55,
   "id": "fa590dd2",
   "metadata": {},
   "outputs": [],
   "source": [
    "class pw3:\n",
    "    \n",
    "    def __new__(cls):\n",
    "        print(\"This is my new\")\n",
    "    def __init__(self):\n",
    "        print(\"This is my  init\")"
   ]
  },
  {
   "cell_type": "code",
   "execution_count": 56,
   "id": "59d48373",
   "metadata": {},
   "outputs": [
    {
     "name": "stdout",
     "output_type": "stream",
     "text": [
      "This is my new\n"
     ]
    }
   ],
   "source": [
    "pw2=pw3()"
   ]
  },
  {
   "cell_type": "code",
   "execution_count": 57,
   "id": "d053b17e",
   "metadata": {},
   "outputs": [],
   "source": [
    "class pw_skills3:\n",
    "    def __init__(self):\n",
    "        self.name=\"adiyya\""
   ]
  },
  {
   "cell_type": "code",
   "execution_count": 58,
   "id": "1ac4c63e",
   "metadata": {},
   "outputs": [],
   "source": [
    "pw4=pw_skills3()"
   ]
  },
  {
   "cell_type": "code",
   "execution_count": 59,
   "id": "627c8a1d",
   "metadata": {},
   "outputs": [
    {
     "data": {
      "text/plain": [
       "<__main__.pw_skills3 at 0x1c56f4c2250>"
      ]
     },
     "execution_count": 59,
     "metadata": {},
     "output_type": "execute_result"
    }
   ],
   "source": [
    "pw4"
   ]
  },
  {
   "cell_type": "code",
   "execution_count": 60,
   "id": "02873a10",
   "metadata": {},
   "outputs": [
    {
     "name": "stdout",
     "output_type": "stream",
     "text": [
      "<__main__.pw_skills3 object at 0x000001C56F4C2250>\n"
     ]
    }
   ],
   "source": [
    "print(pw4)"
   ]
  },
  {
   "cell_type": "code",
   "execution_count": 63,
   "id": "a2361bc6",
   "metadata": {},
   "outputs": [],
   "source": [
    "class pw_skills4:\n",
    "    def __init__(self):\n",
    "        self.name=\"adiyya\"\n",
    "    def __str__(self):\n",
    "        return \"magic method\""
   ]
  },
  {
   "cell_type": "code",
   "execution_count": 64,
   "id": "b02a2a22",
   "metadata": {},
   "outputs": [],
   "source": [
    "pw5=pw_skills4()"
   ]
  },
  {
   "cell_type": "code",
   "execution_count": 65,
   "id": "cae8f6a1",
   "metadata": {},
   "outputs": [
    {
     "data": {
      "text/plain": [
       "<__main__.pw_skills4 at 0x1c56f5e9410>"
      ]
     },
     "execution_count": 65,
     "metadata": {},
     "output_type": "execute_result"
    }
   ],
   "source": [
    "pw5"
   ]
  },
  {
   "cell_type": "code",
   "execution_count": 66,
   "id": "174a31b3",
   "metadata": {},
   "outputs": [
    {
     "name": "stdout",
     "output_type": "stream",
     "text": [
      "magic method\n"
     ]
    }
   ],
   "source": [
    "print(pw5)"
   ]
  },
  {
   "cell_type": "code",
   "execution_count": 67,
   "id": "b3cf5db4",
   "metadata": {},
   "outputs": [
    {
     "data": {
      "text/plain": [
       "['__class__',\n",
       " '__class_getitem__',\n",
       " '__contains__',\n",
       " '__delattr__',\n",
       " '__delitem__',\n",
       " '__dir__',\n",
       " '__doc__',\n",
       " '__eq__',\n",
       " '__format__',\n",
       " '__ge__',\n",
       " '__getattribute__',\n",
       " '__getitem__',\n",
       " '__getstate__',\n",
       " '__gt__',\n",
       " '__hash__',\n",
       " '__init__',\n",
       " '__init_subclass__',\n",
       " '__ior__',\n",
       " '__iter__',\n",
       " '__le__',\n",
       " '__len__',\n",
       " '__lt__',\n",
       " '__ne__',\n",
       " '__new__',\n",
       " '__or__',\n",
       " '__reduce__',\n",
       " '__reduce_ex__',\n",
       " '__repr__',\n",
       " '__reversed__',\n",
       " '__ror__',\n",
       " '__setattr__',\n",
       " '__setitem__',\n",
       " '__sizeof__',\n",
       " '__str__',\n",
       " '__subclasshook__',\n",
       " 'clear',\n",
       " 'copy',\n",
       " 'fromkeys',\n",
       " 'get',\n",
       " 'items',\n",
       " 'keys',\n",
       " 'pop',\n",
       " 'popitem',\n",
       " 'setdefault',\n",
       " 'update',\n",
       " 'values']"
      ]
     },
     "execution_count": 67,
     "metadata": {},
     "output_type": "execute_result"
    }
   ],
   "source": [
    "dir(dict)"
   ]
  },
  {
   "cell_type": "code",
   "execution_count": 68,
   "id": "c4511cf3",
   "metadata": {},
   "outputs": [
    {
     "data": {
      "text/plain": [
       "['__add__',\n",
       " '__class__',\n",
       " '__class_getitem__',\n",
       " '__contains__',\n",
       " '__delattr__',\n",
       " '__delitem__',\n",
       " '__dir__',\n",
       " '__doc__',\n",
       " '__eq__',\n",
       " '__format__',\n",
       " '__ge__',\n",
       " '__getattribute__',\n",
       " '__getitem__',\n",
       " '__getstate__',\n",
       " '__gt__',\n",
       " '__hash__',\n",
       " '__iadd__',\n",
       " '__imul__',\n",
       " '__init__',\n",
       " '__init_subclass__',\n",
       " '__iter__',\n",
       " '__le__',\n",
       " '__len__',\n",
       " '__lt__',\n",
       " '__mul__',\n",
       " '__ne__',\n",
       " '__new__',\n",
       " '__reduce__',\n",
       " '__reduce_ex__',\n",
       " '__repr__',\n",
       " '__reversed__',\n",
       " '__rmul__',\n",
       " '__setattr__',\n",
       " '__setitem__',\n",
       " '__sizeof__',\n",
       " '__str__',\n",
       " '__subclasshook__',\n",
       " 'append',\n",
       " 'clear',\n",
       " 'copy',\n",
       " 'count',\n",
       " 'extend',\n",
       " 'index',\n",
       " 'insert',\n",
       " 'pop',\n",
       " 'remove',\n",
       " 'reverse',\n",
       " 'sort']"
      ]
     },
     "execution_count": 68,
     "metadata": {},
     "output_type": "execute_result"
    }
   ],
   "source": [
    "dir(list)"
   ]
  },
  {
   "cell_type": "code",
   "execution_count": 69,
   "id": "02195876",
   "metadata": {},
   "outputs": [
    {
     "data": {
      "text/plain": [
       "['__add__',\n",
       " '__class__',\n",
       " '__class_getitem__',\n",
       " '__contains__',\n",
       " '__delattr__',\n",
       " '__dir__',\n",
       " '__doc__',\n",
       " '__eq__',\n",
       " '__format__',\n",
       " '__ge__',\n",
       " '__getattribute__',\n",
       " '__getitem__',\n",
       " '__getnewargs__',\n",
       " '__getstate__',\n",
       " '__gt__',\n",
       " '__hash__',\n",
       " '__init__',\n",
       " '__init_subclass__',\n",
       " '__iter__',\n",
       " '__le__',\n",
       " '__len__',\n",
       " '__lt__',\n",
       " '__mul__',\n",
       " '__ne__',\n",
       " '__new__',\n",
       " '__reduce__',\n",
       " '__reduce_ex__',\n",
       " '__repr__',\n",
       " '__rmul__',\n",
       " '__setattr__',\n",
       " '__sizeof__',\n",
       " '__str__',\n",
       " '__subclasshook__',\n",
       " 'count',\n",
       " 'index']"
      ]
     },
     "execution_count": 69,
     "metadata": {},
     "output_type": "execute_result"
    }
   ],
   "source": [
    "dir(tuple)"
   ]
  },
  {
   "cell_type": "markdown",
   "id": "9d173c10",
   "metadata": {},
   "source": [
    "# Property Decorator"
   ]
  },
  {
   "cell_type": "code",
   "execution_count": 70,
   "id": "85e311f3",
   "metadata": {},
   "outputs": [],
   "source": [
    "class pwskills:\n",
    "    def __init__(self,price,name):\n",
    "        self.__price=price\n",
    "        self.name=name"
   ]
  },
  {
   "cell_type": "code",
   "execution_count": 71,
   "id": "1fa561f3",
   "metadata": {},
   "outputs": [],
   "source": [
    "pw=pwskills(3457,\"data science\")"
   ]
  },
  {
   "cell_type": "code",
   "execution_count": 73,
   "id": "2c62cd3d",
   "metadata": {},
   "outputs": [
    {
     "data": {
      "text/plain": [
       "'data science'"
      ]
     },
     "execution_count": 73,
     "metadata": {},
     "output_type": "execute_result"
    }
   ],
   "source": [
    "pw.name"
   ]
  },
  {
   "cell_type": "code",
   "execution_count": 74,
   "id": "01e72f3e",
   "metadata": {},
   "outputs": [
    {
     "ename": "AttributeError",
     "evalue": "'pwskills' object has no attribute 'price'",
     "output_type": "error",
     "traceback": [
      "\u001b[1;31m---------------------------------------------------------------------------\u001b[0m",
      "\u001b[1;31mAttributeError\u001b[0m                            Traceback (most recent call last)",
      "Cell \u001b[1;32mIn[74], line 1\u001b[0m\n\u001b[1;32m----> 1\u001b[0m pw\u001b[38;5;241m.\u001b[39mprice\n",
      "\u001b[1;31mAttributeError\u001b[0m: 'pwskills' object has no attribute 'price'"
     ]
    }
   ],
   "source": [
    "pw.price"
   ]
  },
  {
   "cell_type": "code",
   "execution_count": 72,
   "id": "70745d3b",
   "metadata": {},
   "outputs": [
    {
     "data": {
      "text/plain": [
       "3457"
      ]
     },
     "execution_count": 72,
     "metadata": {},
     "output_type": "execute_result"
    }
   ],
   "source": [
    "pw._pwskills__price"
   ]
  },
  {
   "cell_type": "code",
   "execution_count": 75,
   "id": "6b61c17c",
   "metadata": {},
   "outputs": [],
   "source": [
    "class pwskills:\n",
    "    def __init__(self,price,name):\n",
    "        self.__price=price\n",
    "        self.name=name\n",
    "    @property\n",
    "    def price_access(self):\n",
    "        return self.__price\n",
    "    @price_access.setter\n",
    "    def price_set(self,price):\n",
    "        if price<=3500:\n",
    "            pass\n",
    "        else:\n",
    "            self.__price=price\n",
    "    "
   ]
  },
  {
   "cell_type": "code",
   "execution_count": null,
   "id": "6d6a93e0",
   "metadata": {},
   "outputs": [],
   "source": []
  }
 ],
 "metadata": {
  "kernelspec": {
   "display_name": "Python 3 (ipykernel)",
   "language": "python",
   "name": "python3"
  },
  "language_info": {
   "codemirror_mode": {
    "name": "ipython",
    "version": 3
   },
   "file_extension": ".py",
   "mimetype": "text/x-python",
   "name": "python",
   "nbconvert_exporter": "python",
   "pygments_lexer": "ipython3",
   "version": "3.11.4"
  }
 },
 "nbformat": 4,
 "nbformat_minor": 5
}
