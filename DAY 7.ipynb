{
 "cells": [
  {
   "cell_type": "markdown",
   "id": "1afd9be2",
   "metadata": {},
   "source": [
    "# OOPS Concept"
   ]
  },
  {
   "cell_type": "code",
   "execution_count": 2,
   "id": "342e4358",
   "metadata": {},
   "outputs": [
    {
     "name": "stdout",
     "output_type": "stream",
     "text": [
      "<class 'str'>\n"
     ]
    }
   ],
   "source": [
    "print(type(\"adi\"))"
   ]
  },
  {
   "cell_type": "code",
   "execution_count": 3,
   "id": "ec07f590",
   "metadata": {},
   "outputs": [
    {
     "name": "stdout",
     "output_type": "stream",
     "text": [
      "<class 'int'>\n"
     ]
    }
   ],
   "source": [
    "print(type(3))"
   ]
  },
  {
   "cell_type": "code",
   "execution_count": 4,
   "id": "e42e1bec",
   "metadata": {},
   "outputs": [
    {
     "ename": "SyntaxError",
     "evalue": "incomplete input (3527747674.py, line 1)",
     "output_type": "error",
     "traceback": [
      "\u001b[1;36m  Cell \u001b[1;32mIn[4], line 1\u001b[1;36m\u001b[0m\n\u001b[1;33m    class test:\u001b[0m\n\u001b[1;37m               ^\u001b[0m\n\u001b[1;31mSyntaxError\u001b[0m\u001b[1;31m:\u001b[0m incomplete input\n"
     ]
    }
   ],
   "source": [
    "class test:"
   ]
  },
  {
   "cell_type": "code",
   "execution_count": 5,
   "id": "97fbd99e",
   "metadata": {},
   "outputs": [],
   "source": [
    "class test:\n",
    "    pass"
   ]
  },
  {
   "cell_type": "code",
   "execution_count": 6,
   "id": "87af5176",
   "metadata": {},
   "outputs": [
    {
     "name": "stdout",
     "output_type": "stream",
     "text": [
      "<class '__main__.test'>\n"
     ]
    }
   ],
   "source": [
    "a=test()\n",
    "print(type(a))#a is the object"
   ]
  },
  {
   "cell_type": "code",
   "execution_count": 10,
   "id": "356fa7d0",
   "metadata": {},
   "outputs": [],
   "source": [
    "class pwskills:\n",
    "    def msg(self):\n",
    "        print(\":welcome\")"
   ]
  },
  {
   "cell_type": "code",
   "execution_count": 13,
   "id": "e92dc62a",
   "metadata": {},
   "outputs": [],
   "source": [
    "rohan=pwskills()#rohan is the object"
   ]
  },
  {
   "cell_type": "code",
   "execution_count": 16,
   "id": "f8652e30",
   "metadata": {},
   "outputs": [
    {
     "name": "stdout",
     "output_type": "stream",
     "text": [
      ":welcome\n"
     ]
    }
   ],
   "source": [
    "rohan.msg()#object with function"
   ]
  },
  {
   "cell_type": "code",
   "execution_count": 17,
   "id": "9f8db1df",
   "metadata": {},
   "outputs": [
    {
     "name": "stdout",
     "output_type": "stream",
     "text": [
      ":welcome\n"
     ]
    }
   ],
   "source": [
    "sohan=pwskills()\n",
    "sohan.msg()"
   ]
  },
  {
   "cell_type": "code",
   "execution_count": 18,
   "id": "1819f18e",
   "metadata": {},
   "outputs": [],
   "source": [
    "a=1\n",
    "b=2\n",
    "class pw:\n",
    "    def __init__(self,phone,email,id):\n",
    "        self.phone=phone\n",
    "        self.email=email\n",
    "        self.id=id\n",
    "        \n",
    "    def return_student_info(self):\n",
    "        return self.phone,self.email,self.id"
   ]
  },
  {
   "cell_type": "code",
   "execution_count": 19,
   "id": "1d021ca0",
   "metadata": {},
   "outputs": [
    {
     "ename": "TypeError",
     "evalue": "pw.__init__() missing 3 required positional arguments: 'phone', 'email', and 'id'",
     "output_type": "error",
     "traceback": [
      "\u001b[1;31m---------------------------------------------------------------------------\u001b[0m",
      "\u001b[1;31mTypeError\u001b[0m                                 Traceback (most recent call last)",
      "Cell \u001b[1;32mIn[19], line 1\u001b[0m\n\u001b[1;32m----> 1\u001b[0m rohan\u001b[38;5;241m=\u001b[39mpw()\n",
      "\u001b[1;31mTypeError\u001b[0m: pw.__init__() missing 3 required positional arguments: 'phone', 'email', and 'id'"
     ]
    }
   ],
   "source": [
    "rohan=pw()"
   ]
  },
  {
   "cell_type": "code",
   "execution_count": 20,
   "id": "a414b986",
   "metadata": {},
   "outputs": [],
   "source": [
    "rohan=pw(1234567,\"rohan@gmail.com\",123)"
   ]
  },
  {
   "cell_type": "code",
   "execution_count": 22,
   "id": "20c4a5de",
   "metadata": {},
   "outputs": [
    {
     "data": {
      "text/plain": [
       "(1234567, 'rohan@gmail.com', 123)"
      ]
     },
     "execution_count": 22,
     "metadata": {},
     "output_type": "execute_result"
    }
   ],
   "source": [
    "rohan.return_student_info()"
   ]
  },
  {
   "cell_type": "code",
   "execution_count": 23,
   "id": "25d60a73",
   "metadata": {},
   "outputs": [
    {
     "data": {
      "text/plain": [
       "1234567"
      ]
     },
     "execution_count": 23,
     "metadata": {},
     "output_type": "execute_result"
    }
   ],
   "source": [
    "rohan.phone"
   ]
  },
  {
   "cell_type": "code",
   "execution_count": 24,
   "id": "af90ed95",
   "metadata": {},
   "outputs": [
    {
     "data": {
      "text/plain": [
       "'rohan@gmail.com'"
      ]
     },
     "execution_count": 24,
     "metadata": {},
     "output_type": "execute_result"
    }
   ],
   "source": [
    "rohan.email"
   ]
  },
  {
   "cell_type": "code",
   "execution_count": 25,
   "id": "7235b4ce",
   "metadata": {},
   "outputs": [],
   "source": [
    "sohan=pw(34567,\"adi@gmail.com\",567)"
   ]
  },
  {
   "cell_type": "code",
   "execution_count": 26,
   "id": "ba20044b",
   "metadata": {},
   "outputs": [
    {
     "data": {
      "text/plain": [
       "34567"
      ]
     },
     "execution_count": 26,
     "metadata": {},
     "output_type": "execute_result"
    }
   ],
   "source": [
    "sohan.phone"
   ]
  },
  {
   "cell_type": "code",
   "execution_count": 27,
   "id": "75428aab",
   "metadata": {},
   "outputs": [
    {
     "data": {
      "text/plain": [
       "'adi@gmail.com'"
      ]
     },
     "execution_count": 27,
     "metadata": {},
     "output_type": "execute_result"
    }
   ],
   "source": [
    "sohan.email"
   ]
  },
  {
   "cell_type": "code",
   "execution_count": 28,
   "id": "27a1a95d",
   "metadata": {},
   "outputs": [
    {
     "data": {
      "text/plain": [
       "(34567, 'adi@gmail.com', 567)"
      ]
     },
     "execution_count": 28,
     "metadata": {},
     "output_type": "execute_result"
    }
   ],
   "source": [
    "sohan.return_student_info()"
   ]
  },
  {
   "cell_type": "markdown",
   "id": "f570e343",
   "metadata": {},
   "source": [
    "# Polymorphism"
   ]
  },
  {
   "cell_type": "code",
   "execution_count": 1,
   "id": "142aff9a",
   "metadata": {},
   "outputs": [],
   "source": [
    "def test(a,b):\n",
    "    print(a+b)"
   ]
  },
  {
   "cell_type": "code",
   "execution_count": 2,
   "id": "3b8e04eb",
   "metadata": {},
   "outputs": [
    {
     "name": "stdout",
     "output_type": "stream",
     "text": [
      "8\n"
     ]
    }
   ],
   "source": [
    "test(3,5)"
   ]
  },
  {
   "cell_type": "code",
   "execution_count": 4,
   "id": "e9fbdf11",
   "metadata": {},
   "outputs": [
    {
     "name": "stdout",
     "output_type": "stream",
     "text": [
      "Kumar Aditya\n"
     ]
    }
   ],
   "source": [
    "test(\"Kumar \",\"Aditya\")"
   ]
  },
  {
   "cell_type": "code",
   "execution_count": 5,
   "id": "ad0c4f2f",
   "metadata": {},
   "outputs": [
    {
     "name": "stdout",
     "output_type": "stream",
     "text": [
      "[1, 2, 3, 4, 5, 6]\n"
     ]
    }
   ],
   "source": [
    "test([1,2,3],[4,5,6])"
   ]
  },
  {
   "cell_type": "code",
   "execution_count": 6,
   "id": "2591a281",
   "metadata": {},
   "outputs": [],
   "source": [
    "class data_sc:\n",
    "    def syllabus(self):\n",
    "        print(\"Data Science\")\n",
    "        "
   ]
  },
  {
   "cell_type": "code",
   "execution_count": 7,
   "id": "ff92369e",
   "metadata": {},
   "outputs": [],
   "source": [
    "class web_dev:\n",
    "    def syllabus(self):\n",
    "        print(\"Web development\")"
   ]
  },
  {
   "cell_type": "code",
   "execution_count": 8,
   "id": "3d63af5e",
   "metadata": {},
   "outputs": [],
   "source": [
    "def class_parcer(class_obj):\n",
    "    for i in class_obj:\n",
    "        i.syllabus()"
   ]
  },
  {
   "cell_type": "code",
   "execution_count": 9,
   "id": "5b8b4ae0",
   "metadata": {},
   "outputs": [],
   "source": [
    "obj_data_science=data_sc()"
   ]
  },
  {
   "cell_type": "code",
   "execution_count": 10,
   "id": "79b38c56",
   "metadata": {},
   "outputs": [],
   "source": [
    "obj_web_dev=web_dev()"
   ]
  },
  {
   "cell_type": "code",
   "execution_count": 11,
   "id": "fe8afc04",
   "metadata": {},
   "outputs": [],
   "source": [
    "class_obj=[obj_data_science,obj_web_dev]"
   ]
  },
  {
   "cell_type": "code",
   "execution_count": 12,
   "id": "2ebff6f9",
   "metadata": {},
   "outputs": [
    {
     "name": "stdout",
     "output_type": "stream",
     "text": [
      "Data Science\n",
      "Web development\n"
     ]
    }
   ],
   "source": [
    "class_parcer(class_obj)"
   ]
  },
  {
   "cell_type": "markdown",
   "id": "257c7d4b",
   "metadata": {},
   "source": [
    "# Encapsulation"
   ]
  },
  {
   "cell_type": "code",
   "execution_count": 13,
   "id": "2f698769",
   "metadata": {},
   "outputs": [],
   "source": [
    "class test():\n",
    "    def __init__(self,a,b):\n",
    "        self.a=a\n",
    "        self.b=b\n",
    "    "
   ]
  },
  {
   "cell_type": "code",
   "execution_count": 14,
   "id": "046476e0",
   "metadata": {},
   "outputs": [],
   "source": [
    "t=test(23,45)"
   ]
  },
  {
   "cell_type": "code",
   "execution_count": 15,
   "id": "f11a2b8f",
   "metadata": {},
   "outputs": [
    {
     "data": {
      "text/plain": [
       "23"
      ]
     },
     "execution_count": 15,
     "metadata": {},
     "output_type": "execute_result"
    }
   ],
   "source": [
    "t.a"
   ]
  },
  {
   "cell_type": "code",
   "execution_count": 16,
   "id": "de9c5e5e",
   "metadata": {},
   "outputs": [],
   "source": [
    "class car:\n",
    "    def __init__(self,year,make,model,speed):\n",
    "        self.__year=year#__ is used for no modification or no access\n",
    "        self.__make=make\n",
    "        self.__model=model\n",
    "        self.__speed=speed\n",
    "        "
   ]
  },
  {
   "cell_type": "code",
   "execution_count": 17,
   "id": "6414a928",
   "metadata": {},
   "outputs": [],
   "source": [
    "new_obj=car(1234,\"toyota\",\"innova\",13)"
   ]
  },
  {
   "cell_type": "code",
   "execution_count": 18,
   "id": "df4b897a",
   "metadata": {},
   "outputs": [
    {
     "ename": "AttributeError",
     "evalue": "'car' object has no attribute '__year'",
     "output_type": "error",
     "traceback": [
      "\u001b[1;31m---------------------------------------------------------------------------\u001b[0m",
      "\u001b[1;31mAttributeError\u001b[0m                            Traceback (most recent call last)",
      "Cell \u001b[1;32mIn[18], line 1\u001b[0m\n\u001b[1;32m----> 1\u001b[0m new_obj\u001b[38;5;241m.\u001b[39m__year\n",
      "\u001b[1;31mAttributeError\u001b[0m: 'car' object has no attribute '__year'"
     ]
    }
   ],
   "source": [
    "new_obj.__year"
   ]
  },
  {
   "cell_type": "code",
   "execution_count": 19,
   "id": "8d78bd6b",
   "metadata": {},
   "outputs": [
    {
     "data": {
      "text/plain": [
       "1234"
      ]
     },
     "execution_count": 19,
     "metadata": {},
     "output_type": "execute_result"
    }
   ],
   "source": [
    "new_obj._car__year"
   ]
  },
  {
   "cell_type": "code",
   "execution_count": 20,
   "id": "01e7dee2",
   "metadata": {},
   "outputs": [
    {
     "data": {
      "text/plain": [
       "False"
      ]
     },
     "execution_count": 20,
     "metadata": {},
     "output_type": "execute_result"
    }
   ],
   "source": [
    "new_obj._car__year==2023"
   ]
  },
  {
   "cell_type": "code",
   "execution_count": 21,
   "id": "66327866",
   "metadata": {},
   "outputs": [
    {
     "data": {
      "text/plain": [
       "1234"
      ]
     },
     "execution_count": 21,
     "metadata": {},
     "output_type": "execute_result"
    }
   ],
   "source": [
    "new_obj._car__year"
   ]
  },
  {
   "cell_type": "code",
   "execution_count": 33,
   "id": "8ab7df0b",
   "metadata": {},
   "outputs": [],
   "source": [
    "class car1:\n",
    "    def __init__(self,year,make,model,speed):\n",
    "        self.__year=year#__ is used for no modification or no access\n",
    "        self.__make=make\n",
    "        self.__model=model\n",
    "        self.__speed=speed\n",
    "    def set_speed(self,speed):\n",
    "        self.__speed==0 if speed<0 else speed\n",
    "    def get_speed(self):\n",
    "        return self.__speed\n",
    "        "
   ]
  },
  {
   "cell_type": "code",
   "execution_count": 34,
   "id": "e0a2e50c",
   "metadata": {},
   "outputs": [],
   "source": [
    "obj=car1(3456,\"AUDI\",\"Q7\",13)"
   ]
  },
  {
   "cell_type": "code",
   "execution_count": 35,
   "id": "cdb35913",
   "metadata": {},
   "outputs": [
    {
     "ename": "AttributeError",
     "evalue": "'car1' object has no attribute '__year'",
     "output_type": "error",
     "traceback": [
      "\u001b[1;31m---------------------------------------------------------------------------\u001b[0m",
      "\u001b[1;31mAttributeError\u001b[0m                            Traceback (most recent call last)",
      "Cell \u001b[1;32mIn[35], line 1\u001b[0m\n\u001b[1;32m----> 1\u001b[0m obj\u001b[38;5;241m.\u001b[39m__year\n",
      "\u001b[1;31mAttributeError\u001b[0m: 'car1' object has no attribute '__year'"
     ]
    }
   ],
   "source": [
    "obj.__year"
   ]
  },
  {
   "cell_type": "code",
   "execution_count": 36,
   "id": "e20b4ee7",
   "metadata": {},
   "outputs": [
    {
     "data": {
      "text/plain": [
       "3456"
      ]
     },
     "execution_count": 36,
     "metadata": {},
     "output_type": "execute_result"
    }
   ],
   "source": [
    "obj._car1__year"
   ]
  },
  {
   "cell_type": "code",
   "execution_count": 37,
   "id": "18f9fc70",
   "metadata": {},
   "outputs": [],
   "source": [
    "obj._car1__year=2343"
   ]
  },
  {
   "cell_type": "code",
   "execution_count": 38,
   "id": "4e9ecaf1",
   "metadata": {},
   "outputs": [
    {
     "data": {
      "text/plain": [
       "2343"
      ]
     },
     "execution_count": 38,
     "metadata": {},
     "output_type": "execute_result"
    }
   ],
   "source": [
    "obj._car1__year"
   ]
  },
  {
   "cell_type": "code",
   "execution_count": 40,
   "id": "4a857162",
   "metadata": {},
   "outputs": [
    {
     "data": {
      "text/plain": [
       "13"
      ]
     },
     "execution_count": 40,
     "metadata": {},
     "output_type": "execute_result"
    }
   ],
   "source": [
    "obj.get_speed()"
   ]
  },
  {
   "cell_type": "code",
   "execution_count": 41,
   "id": "f3471f47",
   "metadata": {},
   "outputs": [],
   "source": [
    "obj.set_speed(56)"
   ]
  },
  {
   "cell_type": "code",
   "execution_count": 42,
   "id": "f78ea8fc",
   "metadata": {},
   "outputs": [
    {
     "data": {
      "text/plain": [
       "13"
      ]
     },
     "execution_count": 42,
     "metadata": {},
     "output_type": "execute_result"
    }
   ],
   "source": [
    "obj.get_speed()"
   ]
  },
  {
   "cell_type": "code",
   "execution_count": 44,
   "id": "0973ddf3",
   "metadata": {},
   "outputs": [],
   "source": [
    "class bank_account:\n",
    "    def __init__(self,balance):\n",
    "        self.__balance=balance\n",
    "    def deposit(self,amount):\n",
    "        self.__balance=self.__balance+amount\n",
    "    def withdraw(self,amount):\n",
    "        if self.__balance>=amount:\n",
    "            self.__balance=self.__balance-amount\n",
    "            \n",
    "            return True\n",
    "        else:\n",
    "            return False\n",
    "    def get_balance(self):\n",
    "        return self.__balance"
   ]
  },
  {
   "cell_type": "code",
   "execution_count": 45,
   "id": "fa1b7362",
   "metadata": {},
   "outputs": [],
   "source": [
    "obj_bank=bank_account(1000)"
   ]
  },
  {
   "cell_type": "code",
   "execution_count": 46,
   "id": "0fa4bdc2",
   "metadata": {},
   "outputs": [
    {
     "data": {
      "text/plain": [
       "1000"
      ]
     },
     "execution_count": 46,
     "metadata": {},
     "output_type": "execute_result"
    }
   ],
   "source": [
    "obj_bank.get_balance()"
   ]
  },
  {
   "cell_type": "code",
   "execution_count": 47,
   "id": "7630ca36",
   "metadata": {},
   "outputs": [],
   "source": [
    "obj_bank.deposit(3456)"
   ]
  },
  {
   "cell_type": "code",
   "execution_count": 48,
   "id": "9ea38207",
   "metadata": {},
   "outputs": [
    {
     "data": {
      "text/plain": [
       "4456"
      ]
     },
     "execution_count": 48,
     "metadata": {},
     "output_type": "execute_result"
    }
   ],
   "source": [
    "obj_bank.get_balance()"
   ]
  },
  {
   "cell_type": "code",
   "execution_count": 49,
   "id": "182e7018",
   "metadata": {},
   "outputs": [
    {
     "data": {
      "text/plain": [
       "True"
      ]
     },
     "execution_count": 49,
     "metadata": {},
     "output_type": "execute_result"
    }
   ],
   "source": [
    "obj_bank.withdraw(3678)"
   ]
  },
  {
   "cell_type": "code",
   "execution_count": 50,
   "id": "ca22c96e",
   "metadata": {},
   "outputs": [
    {
     "data": {
      "text/plain": [
       "778"
      ]
     },
     "execution_count": 50,
     "metadata": {},
     "output_type": "execute_result"
    }
   ],
   "source": [
    "obj_bank.get_balance()"
   ]
  },
  {
   "cell_type": "markdown",
   "id": "c12b5630",
   "metadata": {},
   "source": [
    "# Inheritance"
   ]
  },
  {
   "cell_type": "code",
   "execution_count": 1,
   "id": "80a0e82f",
   "metadata": {},
   "outputs": [],
   "source": [
    "class parent:\n",
    "    def test(self):\n",
    "        print(\"parent class\")"
   ]
  },
  {
   "cell_type": "code",
   "execution_count": 4,
   "id": "1a087bab",
   "metadata": {},
   "outputs": [],
   "source": [
    "class child(parent):\n",
    "    pass"
   ]
  },
  {
   "cell_type": "code",
   "execution_count": 5,
   "id": "4ed48a64",
   "metadata": {},
   "outputs": [],
   "source": [
    "child_obj=child()"
   ]
  },
  {
   "cell_type": "code",
   "execution_count": 6,
   "id": "992dcf6f",
   "metadata": {},
   "outputs": [
    {
     "name": "stdout",
     "output_type": "stream",
     "text": [
      "parent class\n"
     ]
    }
   ],
   "source": [
    "child_obj.test()"
   ]
  },
  {
   "cell_type": "code",
   "execution_count": 9,
   "id": "33bbd58a",
   "metadata": {},
   "outputs": [],
   "source": [
    "#Multi level Inheritance\n",
    "class class1:\n",
    "    def test(self):\n",
    "        print(\"class1\")"
   ]
  },
  {
   "cell_type": "code",
   "execution_count": 10,
   "id": "2b31d039",
   "metadata": {},
   "outputs": [],
   "source": [
    "class class2(class1):\n",
    "    def test2(self):\n",
    "        print(\"class2\")"
   ]
  },
  {
   "cell_type": "code",
   "execution_count": 11,
   "id": "5bc11288",
   "metadata": {},
   "outputs": [],
   "source": [
    "class class3(class2):\n",
    "    def test3(self):\n",
    "        print(\"class3\")"
   ]
  },
  {
   "cell_type": "code",
   "execution_count": 12,
   "id": "29cdb740",
   "metadata": {},
   "outputs": [],
   "source": [
    "obc3=class3()"
   ]
  },
  {
   "cell_type": "code",
   "execution_count": 13,
   "id": "36082eaa",
   "metadata": {},
   "outputs": [
    {
     "name": "stdout",
     "output_type": "stream",
     "text": [
      "class1\n"
     ]
    }
   ],
   "source": [
    "obc3.test()"
   ]
  },
  {
   "cell_type": "code",
   "execution_count": 14,
   "id": "67455bee",
   "metadata": {},
   "outputs": [
    {
     "name": "stdout",
     "output_type": "stream",
     "text": [
      "class2\n"
     ]
    }
   ],
   "source": [
    "obc3.test2()"
   ]
  },
  {
   "cell_type": "code",
   "execution_count": 16,
   "id": "6ac149b2",
   "metadata": {},
   "outputs": [
    {
     "name": "stdout",
     "output_type": "stream",
     "text": [
      "class3\n"
     ]
    }
   ],
   "source": [
    "obc3.test3()"
   ]
  },
  {
   "cell_type": "code",
   "execution_count": 17,
   "id": "c388abcf",
   "metadata": {},
   "outputs": [],
   "source": [
    "#Multiple inheritance\n",
    "class class1:\n",
    "    def test1(self):\n",
    "        print(\"class1\")"
   ]
  },
  {
   "cell_type": "code",
   "execution_count": 18,
   "id": "0d8bd4b9",
   "metadata": {},
   "outputs": [],
   "source": [
    "class class2:\n",
    "    def test2(self):\n",
    "        print(\"class2\")"
   ]
  },
  {
   "cell_type": "code",
   "execution_count": 19,
   "id": "00ed19d6",
   "metadata": {},
   "outputs": [],
   "source": [
    "class class3(class1,class2):\n",
    "    def test3(self):\n",
    "        print(\"class3\")"
   ]
  },
  {
   "cell_type": "code",
   "execution_count": 20,
   "id": "07920639",
   "metadata": {},
   "outputs": [],
   "source": [
    "class3_obj=class3()"
   ]
  },
  {
   "cell_type": "code",
   "execution_count": 21,
   "id": "71736cd7",
   "metadata": {},
   "outputs": [
    {
     "name": "stdout",
     "output_type": "stream",
     "text": [
      "class1\n"
     ]
    }
   ],
   "source": [
    "class3_obj.test1()"
   ]
  },
  {
   "cell_type": "code",
   "execution_count": 22,
   "id": "73642e62",
   "metadata": {},
   "outputs": [
    {
     "name": "stdout",
     "output_type": "stream",
     "text": [
      "class2\n"
     ]
    }
   ],
   "source": [
    "class3_obj.test2()"
   ]
  },
  {
   "cell_type": "code",
   "execution_count": 23,
   "id": "6a10e18a",
   "metadata": {},
   "outputs": [
    {
     "name": "stdout",
     "output_type": "stream",
     "text": [
      "class3\n"
     ]
    }
   ],
   "source": [
    "class3_obj.test3()"
   ]
  },
  {
   "cell_type": "code",
   "execution_count": 24,
   "id": "8ea53a93",
   "metadata": {},
   "outputs": [],
   "source": [
    "#abstraction(blue print)"
   ]
  },
  {
   "cell_type": "code",
   "execution_count": 26,
   "id": "07c385e5",
   "metadata": {},
   "outputs": [],
   "source": [
    "import abc\n",
    "class pw:\n",
    "    @abc.abstractmethod\n",
    "    def test(self):\n",
    "        pass\n",
    "    \n",
    "    @abc.abstractmethod\n",
    "    def test1(self):\n",
    "        pass\n",
    "    \n",
    "    @abc.abstractmethod\n",
    "    def test2(self):\n",
    "        pass"
   ]
  },
  {
   "cell_type": "code",
   "execution_count": 37,
   "id": "754b446c",
   "metadata": {},
   "outputs": [],
   "source": [
    "class data(pw):\n",
    "    \n",
    "    def  details(self):\n",
    "        print(\" Student details \")\n",
    "        \n",
    "    def assignment(self):\n",
    "        print(\"assignment\")"
   ]
  },
  {
   "cell_type": "code",
   "execution_count": 38,
   "id": "73157dfc",
   "metadata": {},
   "outputs": [],
   "source": [
    "class web(pw):\n",
    "    def  details(self):\n",
    "        print(\"details \")\n",
    "        \n",
    "    def mark(self):\n",
    "        print(\"mark\")"
   ]
  },
  {
   "cell_type": "code",
   "execution_count": 39,
   "id": "9062b28e",
   "metadata": {},
   "outputs": [],
   "source": [
    "ds=data()"
   ]
  },
  {
   "cell_type": "code",
   "execution_count": 40,
   "id": "b282252d",
   "metadata": {},
   "outputs": [
    {
     "name": "stdout",
     "output_type": "stream",
     "text": [
      " Student details \n"
     ]
    }
   ],
   "source": [
    "ds.details()"
   ]
  },
  {
   "cell_type": "code",
   "execution_count": 41,
   "id": "cb0bce07",
   "metadata": {},
   "outputs": [],
   "source": [
    "web_dev=web()"
   ]
  },
  {
   "cell_type": "code",
   "execution_count": 43,
   "id": "63b3846e",
   "metadata": {},
   "outputs": [
    {
     "name": "stdout",
     "output_type": "stream",
     "text": [
      "mark\n"
     ]
    }
   ],
   "source": [
    "web_dev.mark()"
   ]
  },
  {
   "cell_type": "code",
   "execution_count": null,
   "id": "fd621290",
   "metadata": {},
   "outputs": [],
   "source": []
  }
 ],
 "metadata": {
  "kernelspec": {
   "display_name": "Python 3 (ipykernel)",
   "language": "python",
   "name": "python3"
  },
  "language_info": {
   "codemirror_mode": {
    "name": "ipython",
    "version": 3
   },
   "file_extension": ".py",
   "mimetype": "text/x-python",
   "name": "python",
   "nbconvert_exporter": "python",
   "pygments_lexer": "ipython3",
   "version": "3.11.4"
  }
 },
 "nbformat": 4,
 "nbformat_minor": 5
}
