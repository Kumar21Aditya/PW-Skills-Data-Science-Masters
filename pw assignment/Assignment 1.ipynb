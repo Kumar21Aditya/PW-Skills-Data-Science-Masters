{
 "cells": [
  {
   "cell_type": "raw",
   "id": "b7b4ead4",
   "metadata": {},
   "source": [
    "1.Characteristics of tuple? Is tuples are immutable?\n",
    "Ans:-Tuples in Python are similar to Python lists but not entirely. Tuples are immutable and ordered and allow duplicate values.\n",
    "    Some Characteristics of Tuples in Python. We can find items in a tuple since finding any item does not make changes in the\n",
    "    tuple. One cannot add items to a tuple once it is created. Tuples cannot be appended or extended."
   ]
  },
  {
   "cell_type": "raw",
   "id": "01138290",
   "metadata": {},
   "source": [
    "2.Q2. What are the two tuple methods in python? Give an example of each method. Give a reason why tuples have only two in-built\n",
    "      methods as compared to Lists.   \n",
    "Ans:-The two methods for tuples are: 1.count()\n",
    "                                     2.Index()\n",
    "            \n",
    "         1.Count() -it is used for couning the element in the list\n",
    "         2.Index() -it is used for find the index position of specific element in the list\n",
    "            \n",
    " tuple have only 2 in built function because it is immutable in nature,it cant be further modified and replaced\n"
   ]
  },
  {
   "cell_type": "code",
   "execution_count": 4,
   "id": "ab1dccde",
   "metadata": {},
   "outputs": [
    {
     "name": "stdout",
     "output_type": "stream",
     "text": [
      "(1, 'adi', 5, 6, 98.6, 'me', 5, 7, 5)\n",
      "1\n",
      "3\n"
     ]
    }
   ],
   "source": [
    "#2.Example\n",
    "t1=(1,\"adi\",5,6,98.6,\"me\",5,7,5)\n",
    "print(t1)\n",
    "print(t1.index(\"adi\"))\n",
    "print(t1.count(5))"
   ]
  },
  {
   "cell_type": "raw",
   "id": "82a371e5",
   "metadata": {},
   "source": [
    "3.Q3. Which collection datatypes in python do not allow duplicate items? Write a code using a set to remove\n",
    "duplicates from the given list.\n",
    "List = [1, 1, 1, 2, 1, 3, 1, 4, 2, 1, 2, 2, 2, 3, 2, 4, 3, 1, 3, 2, 3, 3, 3, 4, 4, 1, 4, 2, 4, 3, 4, 4]\n",
    "\n",
    "Ans:-Set datatype in python do not allow duplicate items"
   ]
  },
  {
   "cell_type": "code",
   "execution_count": 6,
   "id": "1150896b",
   "metadata": {},
   "outputs": [
    {
     "data": {
      "text/plain": [
       "{1, 2, 3, 4}"
      ]
     },
     "execution_count": 6,
     "metadata": {},
     "output_type": "execute_result"
    }
   ],
   "source": [
    "#3.Example\n",
    "List = [1, 1, 1, 2, 1, 3, 1, 4, 2, 1, 2, 2, 2, 3, 2, 4, 3, 1, 3, 2, 3, 3, 3, 4, 4, 1, 4, 2, 4, 3, 4, 4]\n",
    "s1=set(List)\n",
    "s1"
   ]
  },
  {
   "cell_type": "raw",
   "id": "d60f0163",
   "metadata": {},
   "source": [
    "4.Q4. Explain the difference between the union() and update() methods for a set. Give an example of\n",
    "each method.\n",
    "\n",
    "Ans:-In summary, the key difference is that union() creates a new set containing the union of two or more sets without modifying\n",
    "    the original sets, while update() modifies the calling set in-place by adding elements from other sets or iterables to it.\n",
    "    Choose the method that suits your specific needs based on whether you want to create a new set or modify an existing one."
   ]
  },
  {
   "cell_type": "code",
   "execution_count": 12,
   "id": "13c008be",
   "metadata": {},
   "outputs": [
    {
     "name": "stdout",
     "output_type": "stream",
     "text": [
      "None\n",
      "{1, 2, 3, 4, 5, 6, 7}\n",
      "{1, 2, 3, 4, 5, 6, 7}\n"
     ]
    }
   ],
   "source": [
    "#4.Example\n",
    "s1={1,2,3,4}\n",
    "s2={4,5,6,7}\n",
    "print(s1.update(s2))\n",
    "print(s1)\n",
    "print(s1.union(s2))"
   ]
  },
  {
   "cell_type": "raw",
   "id": "dc461268",
   "metadata": {},
   "source": [
    "5.Q5. What is a dictionary? Give an example. Also, state whether a dictionary is ordered or unordered.\n",
    "\n",
    "Ans:-A dictionary in Python is a data structure that stores a collection of key-value pairs. Each key is associated with a \n",
    "    value, and you can use the key to retrieve the corresponding value quickly.Dictionaries in Python were traditionally\n",
    "    unordered until Python 3.7. Starting from Python 3.7, dictionaries maintain the order of insertion, meaning the order \n",
    "    of key-value pairs is preserved. This order-preserving behavior became part of the Python language specification from \n",
    "    Python 3.7 onwards."
   ]
  },
  {
   "cell_type": "code",
   "execution_count": 13,
   "id": "83bd04d5",
   "metadata": {},
   "outputs": [
    {
     "name": "stdout",
     "output_type": "stream",
     "text": [
      "{'course_name': ('abc', 'def', 'ghi')}\n"
     ]
    }
   ],
   "source": [
    "#5.Example\n",
    "d10={'course_name':(\"abc\",\"def\",\"ghi\")}\n",
    "print(d10)"
   ]
  },
  {
   "cell_type": "raw",
   "id": "54b713b3",
   "metadata": {},
   "source": [
    "Q6. Can we create a nested dictionary? If so, please give an example by creating a simple one-level\n",
    "nested dictionary.\n",
    "\n",
    "Ans:-Yes, you can create nested dictionaries in Python. A nested dictionary is a dictionary where the values associated with \n",
    "    keys are themselves dictionaries. This allows you to represent hierarchical or structured data. Here's an example of a \n",
    "    simple one-level nested dictionary"
   ]
  },
  {
   "cell_type": "code",
   "execution_count": 14,
   "id": "5cb03169",
   "metadata": {},
   "outputs": [],
   "source": [
    "#6.Example\n",
    "# Creating a one-level nested dictionary\n",
    "employee = {\n",
    "    \"name\": \"John\",\n",
    "    \"age\": 30,\n",
    "    \"department\": {\n",
    "        \"name\": \"HR\",\n",
    "        \"location\": \"New York\"\n",
    "    },\n",
    "    \"manager\": {\n",
    "        \"name\": \"Alice\",\n",
    "        \"title\": \"HR Manager\"\n",
    "    }\n",
    "}"
   ]
  },
  {
   "cell_type": "code",
   "execution_count": 15,
   "id": "085e6aee",
   "metadata": {},
   "outputs": [
    {
     "data": {
      "text/plain": [
       "{'name': 'John',\n",
       " 'age': 30,\n",
       " 'department': {'name': 'HR', 'location': 'New York'},\n",
       " 'manager': {'name': 'Alice', 'title': 'HR Manager'}}"
      ]
     },
     "execution_count": 15,
     "metadata": {},
     "output_type": "execute_result"
    }
   ],
   "source": [
    "employee"
   ]
  },
  {
   "cell_type": "raw",
   "id": "65126825",
   "metadata": {},
   "source": [
    "Q7. Using setdefault() method, create key named topics in the given dictionary and also add the value of\n",
    "    the key as this list ['Python', 'Machine Learning’, 'Deep Learning']\n",
    "    dict1 = {'language' : 'Python', 'course': 'Data Science Masters'}"
   ]
  },
  {
   "cell_type": "code",
   "execution_count": 18,
   "id": "03869668",
   "metadata": {},
   "outputs": [
    {
     "data": {
      "text/plain": [
       "{'language': 'Python',\n",
       " 'course': 'Data Science Masters',\n",
       " 'topics': ['Python', 'Machine Learning', 'Deep Learning']}"
      ]
     },
     "execution_count": 18,
     "metadata": {},
     "output_type": "execute_result"
    }
   ],
   "source": [
    "#7.Example\n",
    "dict1 = {'language' : 'Python', 'course': 'Data Science Masters'}\n",
    "dict1['topics']=['Python',\"Machine Learning\",\"Deep Learning\"]\n",
    "dict1                 "
   ]
  },
  {
   "cell_type": "raw",
   "id": "45a95359",
   "metadata": {},
   "source": [
    "Q8. What are the three view objects in dictionaries? Use the three in-built methods in python to display\n",
    "these three view objects for the given dictionary.\n",
    "dict1 = {'Sport': 'Cricket' , 'Teams': ['India', 'Australia', 'England', 'South Africa', 'Sri Lanka', 'New Zealand']}"
   ]
  },
  {
   "cell_type": "code",
   "execution_count": 19,
   "id": "2ed6e728",
   "metadata": {},
   "outputs": [
    {
     "name": "stdout",
     "output_type": "stream",
     "text": [
      "dict_keys(['Sport', 'Teams'])\n",
      "dict_values(['Cricket', ['India', 'Australia', 'England', 'South Africa', 'Sri Lanka', 'New Zealand']])\n",
      "dict_items([('Sport', 'Cricket'), ('Teams', ['India', 'Australia', 'England', 'South Africa', 'Sri Lanka', 'New Zealand'])])\n"
     ]
    }
   ],
   "source": [
    "#8.Example\n",
    "dict1 = {'Sport': 'Cricket' , 'Teams': ['India', 'Australia', 'England', 'South Africa', 'Sri Lanka', 'New Zealand']}\n",
    "print(dict1.keys())\n",
    "print(dict1.values())\n",
    "print(dict1.items())"
   ]
  },
  {
   "cell_type": "code",
   "execution_count": null,
   "id": "4864ff35",
   "metadata": {},
   "outputs": [],
   "source": []
  }
 ],
 "metadata": {
  "kernelspec": {
   "display_name": "Python 3 (ipykernel)",
   "language": "python",
   "name": "python3"
  },
  "language_info": {
   "codemirror_mode": {
    "name": "ipython",
    "version": 3
   },
   "file_extension": ".py",
   "mimetype": "text/x-python",
   "name": "python",
   "nbconvert_exporter": "python",
   "pygments_lexer": "ipython3",
   "version": "3.11.4"
  }
 },
 "nbformat": 4,
 "nbformat_minor": 5
}
