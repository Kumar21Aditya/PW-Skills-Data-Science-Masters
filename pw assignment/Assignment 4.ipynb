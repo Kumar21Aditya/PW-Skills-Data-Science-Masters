{
 "cells": [
  {
   "cell_type": "raw",
   "id": "755cc91d",
   "metadata": {},
   "source": [
    "1. Who developed Python Programming Language?\n",
    "Ans:-Python programming language was created by Guido van Rossum. Guido van Rossum began working on Python in the late 1980s,\n",
    "    and the first official Python release (Python 0.9.0) was released in February 1991."
   ]
  },
  {
   "cell_type": "raw",
   "id": "d2651382",
   "metadata": {},
   "source": [
    "2. Which type of Programming does Python support?\n",
    "Ans:-Python supports multiple programming paradigms, including:\n",
    "\n",
    "1. Imperative Programming\n",
    "2. Object-Oriented Programming (OOP)\n",
    "3. Functional Programming\n",
    "4. Procedural Programming\n",
    "5. Scripting\n",
    "6. Dynamic Typing\n",
    "7. High-Level Language\n",
    "8. Cross-Platform Development"
   ]
  },
  {
   "cell_type": "raw",
   "id": "811741ab",
   "metadata": {},
   "source": [
    "3. Is Python case sensitive when dealing with identifiers?\n",
    "Ans:-Yes, Python is case-sensitive when dealing with identifiers. This means that Python distinguishes between uppercase and \n",
    "    lowercase letters in variable names, function names, class names, and other identifiers. For example, `myVariable`, \n",
    "    `myvariable`, and `MyVariable` would be treated as different identifiers in Python."
   ]
  },
  {
   "cell_type": "raw",
   "id": "aeb6559a",
   "metadata": {},
   "source": [
    "4. What is the correct extension of the Python file?\n",
    "Ans-The correct file extension for Python source code files is \".py\". When you create a Python script or program, you should \n",
    "    save it with the \".py\" extension. For example, \"my_script.py\" would be a valid Python file name."
   ]
  },
  {
   "cell_type": "raw",
   "id": "140e9e7a",
   "metadata": {},
   "source": [
    "5. Is Python code compiled or interpreted?\n",
    "Ans:-Python is an interpreted programming language. When you write Python code, it is not compiled into machine code like\n",
    "    languages such as C or C++. Instead, Python code is executed by the Python interpreter line by line"
   ]
  },
  {
   "cell_type": "raw",
   "id": "00dd460a",
   "metadata": {},
   "source": [
    "6. Name a few blocks of code used to define in Python language?\n",
    "Ans:-In Python, you commonly use the following code blocks:\n",
    "\n",
    "1. Function Blocks: Defined using `def`.\n",
    "2. Conditional Blocks: Created with `if`, `elif`, and `else`.\n",
    "3. Loop Blocks: Made with `for` and `while` loops.\n",
    "4. Class Blocks: Used to define classes with `class`.\n",
    "5. Exception Handling Blocks: Managed by `try`, `except`, `else`, and `finally`.\n",
    "6. Context Managers: Defined with `with` for resource management.\n",
    "\n",
    "These blocks help organize and structure your Python code."
   ]
  },
  {
   "cell_type": "raw",
   "id": "d975d3f4",
   "metadata": {},
   "source": [
    "7. State a character used to give single-line comments in Python?\n",
    "Ans:-In Python, the character used to give single-line comments is the hash symbol (`#`). Any text following a `#` on the same\n",
    "     line is treated as a comment and is not executed as code by the Python interpreter. Single-line comments are often used to      provide explanations or documentation for code. For example:\n",
    "\n",
    "```python\n",
    "# This is a single-line comment\n",
    "print(\"Hello, World!\")\n",
    "```\n",
    "\n",
    "The comment after `#` is not executed, and it's there for human readability and understanding."
   ]
  },
  {
   "cell_type": "raw",
   "id": "0e3681a2",
   "metadata": {},
   "source": [
    "8. Mention functions which can help us to find the version of python that we are currently working on?\n"
   ]
  },
  {
   "cell_type": "code",
   "execution_count": 4,
   "id": "77ebaa95",
   "metadata": {},
   "outputs": [
    {
     "name": "stdout",
     "output_type": "stream",
     "text": [
      "3.11.4\n"
     ]
    }
   ],
   "source": [
    "from platform import python_version\n",
    "\n",
    "print(python_version())"
   ]
  },
  {
   "cell_type": "raw",
   "id": "4d81517e",
   "metadata": {},
   "source": [
    "9. Python supports the creation of anonymous functions at runtime, using a construct called\n",
    "Ans:-lambda Function"
   ]
  },
  {
   "cell_type": "raw",
   "id": "3930d641",
   "metadata": {},
   "source": [
    "10. What does pip stand for python?\n",
    "Ans:The name \"pip\" in Python stands for \"Pip Installs Packages\" or, originally, \"Pip Installs Python.\" It's a package manager\n",
    "    for Python that is used to install, upgrade, and manage Python packages (libraries and modules) from the Python Package \n",
    "    Index (PyPI) and other sources."
   ]
  },
  {
   "cell_type": "raw",
   "id": "fd748455",
   "metadata": {},
   "source": [
    "11. Mention a few built-in functions in python?\n",
    "Ans:-\n",
    "print(): Used to display output on the console.\n",
    "\n",
    "input(): Reads input from the user via the keyboard.\n",
    "\n",
    "len(): Returns the length (number of elements) of an object like a string, list, or tuple.\n",
    "\n",
    "type(): Returns the type of an object.\n",
    "\n",
    "int(), float(), str(): Used for data type conversion.\n",
    "\n",
    "max(), min(): Returns the maximum and minimum values from a sequence.\n",
    "\n",
    "sum(): Calculates the sum of elements in a sequence.\n",
    "\n",
    "abs(): Returns the absolute value of a number.\n",
    "\n",
    "round(): Rounds a floating-point number to the nearest integer.\n",
    "\n",
    "range(): Generates a sequence of numbers."
   ]
  },
  {
   "cell_type": "raw",
   "id": "db542e17",
   "metadata": {},
   "source": [
    "12. What is the maximum possible length of an identifier in Python?\n",
    "Ans:79"
   ]
  },
  {
   "cell_type": "raw",
   "id": "1e01f907",
   "metadata": {},
   "source": [
    "13. What are the benefits of using Python?\n",
    "Ans:-\n",
    "    In short, some key benefits of using Python include:\n",
    "\n",
    "1. Readability and simplicity of code.\n",
    "2. Versatility for various applications.\n",
    "3. Extensive standard library and third-party packages.\n",
    "4. Cross-platform compatibility.\n",
    "5. Open source and community-driven.\n",
    "6. High-level language with dynamic typing.\n",
    "7. Rapid development and prototyping.\n",
    "8. Strong support for integration.\n",
    "9. Popular in data analysis, scientific computing, and web development.\n",
    "10. Abundance of job opportunities and a large developer community."
   ]
  },
  {
   "cell_type": "raw",
   "id": "99199f1d",
   "metadata": {},
   "source": [
    "14. How is memory managed in Python?\n",
    "Ans:-memory management in Python is handled automatically by the Python memory manager, which uses techniques such as reference\n",
    "    counting and garbage collection to allocate and deallocate memory. Python developers generally don't need to worry about \n",
    "    manual memory management, making Python a high-level and convenient language for programming."
   ]
  },
  {
   "cell_type": "raw",
   "id": "a795c70e",
   "metadata": {},
   "source": [
    "# 15. How to install Python on Windows and set path variables?\n",
    "Ans:-\n",
    "    To install Python on Windows and set the path variables, you can follow these steps:\n",
    "\n",
    "**Installing Python:**\n",
    "\n",
    "1. Visit the official Python website at https://www.python.org/downloads/ and download the latest version of Python for Windows. Choose the appropriate installer, either 32-bit or 64-bit, based on your system.\n",
    "\n",
    "2. Run the installer executable that you downloaded. Ensure you check the box that says \"Add Python X.Y to PATH\" during the installation, where \"X.Y\" represents the version number (e.g., Python 3.9). This will automatically set the necessary environment variables for you.\n",
    "\n",
    "3. Follow the installation prompts, and Python will be installed on your Windows machine.\n",
    "\n",
    "**Setting PATH Variables (Optional, in case it wasn't done during installation):**\n",
    "\n",
    "If you didn't select the option to add Python to your PATH during installation, you can do it manually by following these steps:\n",
    "\n",
    "1. Open the Windows Start menu and search for \"Environment Variables\" or \"Edit the system environment variables\" and select it from the search results.\n",
    "\n",
    "2. In the \"System Properties\" window, click the \"Environment Variables\" button near the bottom right.\n",
    "\n",
    "3. In the \"Environment Variables\" window, under \"System variables,\" scroll down and find the \"Path\" variable. Select it and click the \"Edit\" button.\n",
    "\n",
    "4. In the \"Edit Environment Variable\" window, click \"New\" and add the path to your Python installation directory. By default, Python is installed in the \"C:\\Users\\<Your Username>\\AppData\\Local\\Programs\\Python\\PythonX.Y\" directory.\n",
    "\n",
    "   Replace `<Your Username>` with your actual Windows username and \"X.Y\" with the Python version you installed (e.g., Python 3.9).\n",
    "\n",
    "5. Click \"OK\" to close each of the open windows.\n",
    "\n",
    "**Verifying the Installation:**\n",
    "\n",
    "To verify that Python has been installed correctly and the path variables have been set, open a Command Prompt (CMD) or PowerShell window and type the following commands:\n",
    "\n",
    "```bash\n",
    "python --version\n",
    "```\n",
    "\n",
    "This should display the installed Python version, indicating that Python is accessible from the command line.\n",
    "\n",
    "That's it! You have successfully installed Python on Windows and set the path variables. You can now use Python for your development and scripting needs."
   ]
  },
  {
   "cell_type": "raw",
   "id": "46d4719c",
   "metadata": {},
   "source": [
    "16. Is indentation required in python?\n",
    "Ans:-Yes, indentation is required in Python. Python uses indentation to define the structure and scope of code blocks, such as loops, conditional statements, functions, and classes. Unlike many other programming languages that use braces or other symbols to delimit code blocks, Python relies on consistent indentation to determine the beginning and end of blocks."
   ]
  }
 ],
 "metadata": {
  "kernelspec": {
   "display_name": "Python 3 (ipykernel)",
   "language": "python",
   "name": "python3"
  },
  "language_info": {
   "codemirror_mode": {
    "name": "ipython",
    "version": 3
   },
   "file_extension": ".py",
   "mimetype": "text/x-python",
   "name": "python",
   "nbconvert_exporter": "python",
   "pygments_lexer": "ipython3",
   "version": "3.11.4"
  }
 },
 "nbformat": 4,
 "nbformat_minor": 5
}
