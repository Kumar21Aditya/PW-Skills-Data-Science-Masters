{
 "cells": [
  {
   "cell_type": "raw",
   "id": "820f8049",
   "metadata": {},
   "source": [
    "Q1. Create a function which will take a list as an argument and return the product of all the numbers\n",
    "after creating a flat list.\n",
    "Use the below-given list as an argument for your function.\n",
    "list1 = [1,2,3,4, [44,55,66, True], False, (34,56,78,89,34), {1,2,3,3,2,1}, {1:34, \"key2\": [55, 67, 78, 89], 4: (45,\n",
    "22, 61, 34)}, [56, 'data science'], 'Machine Learning']\n",
    "Note: you must extract numeric keys and values of the dictionary also."
   ]
  },
  {
   "cell_type": "code",
   "execution_count": 1,
   "id": "cce6e856",
   "metadata": {},
   "outputs": [
    {
     "name": "stdout",
     "output_type": "stream",
     "text": [
      "Product of all numbers in the list: 0\n"
     ]
    }
   ],
   "source": [
    "def flatten_and_product(input_list):\n",
    "    def is_numeric(value):\n",
    "        return isinstance(value, (int, float))\n",
    "\n",
    "    def flatten(lst):\n",
    "        for item in lst:\n",
    "            if isinstance(item, list):\n",
    "                yield from flatten(item)\n",
    "            elif isinstance(item, dict):\n",
    "                yield from flatten(item.values())\n",
    "            else:\n",
    "                yield item\n",
    "\n",
    "    flattened_list = list(flatten(input_list))\n",
    "    numeric_values = [item for item in flattened_list if is_numeric(item)]\n",
    "\n",
    "    if not numeric_values:\n",
    "        return 0  # Return 0 if there are no numeric values in the list\n",
    "\n",
    "    product = 1\n",
    "    for num in numeric_values:\n",
    "        product *= num\n",
    "\n",
    "    return product\n",
    "\n",
    "# Test the function with the given list\n",
    "list1 = [1, 2, 3, 4, [44, 55, 66, True], False, (34, 56, 78, 89, 34), {1, 2, 3, 3, 2, 1}, {1: 34, \"key2\": [55, 67, 78, 89], 4: (45, 22, 61, 34)}, [56, 'data science'], 'Machine Learning']\n",
    "result = flatten_and_product(list1)\n",
    "print(\"Product of all numbers in the list:\", result)\n"
   ]
  },
  {
   "cell_type": "raw",
   "id": "983e306e",
   "metadata": {},
   "source": [
    "Q2. Write a python program for encrypting a message sent to you by your friend. The logic of encryption\n",
    "should be such that, for a the output should be z. For b, the output should be y. For c, the output should\n",
    "be x respectively. Also, the whitespace should be replaced with a dollar sign. Keep the punctuation\n",
    "marks unchanged.\n",
    "Input Sentence: I want to become a Data Scientist.\n",
    "Encrypt the above input sentence using the program you just created.\n",
    "Note: Convert the given input sentence into lowercase before encrypting. The final output should be\n",
    "lowercase."
   ]
  },
  {
   "cell_type": "code",
   "execution_count": 3,
   "id": "74fae95e",
   "metadata": {},
   "outputs": [
    {
     "name": "stdout",
     "output_type": "stream",
     "text": [
      "Encrypted Sentence: r$dzmg$gl$yvxlnv$z$wzgz$hxrvmgrhg.\n"
     ]
    }
   ],
   "source": [
    "def encrypt_message(message):\n",
    "    encrypted_message = []\n",
    "    message = message.lower()  # Convert the input to lowercase\n",
    "\n",
    "    for char in message:\n",
    "        if char.isalpha():  # Check if the character is alphabetic\n",
    "            encrypted_char = chr(ord('a') + (25 - (ord(char) - ord('a'))))  # Apply the encryption logic\n",
    "            encrypted_message.append(encrypted_char)\n",
    "        elif char.isspace():  # Check if the character is a whitespace\n",
    "            encrypted_message.append('$')  # Replace whitespace with '$'\n",
    "        else:\n",
    "            encrypted_message.append(char)  # Keep punctuation marks unchanged\n",
    "\n",
    "    return ''.join(encrypted_message)  # Convert the list to a string\n",
    "\n",
    "# Input Sentence\n",
    "input_sentence = \"I want to become a Data Scientist.\"\n",
    "\n",
    "# Encrypt the input sentence\n",
    "encrypted_sentence = encrypt_message(input_sentence)\n",
    "\n",
    "# Print the encrypted sentence\n",
    "print(\"Encrypted Sentence:\", encrypted_sentence)\n"
   ]
  },
  {
   "cell_type": "code",
   "execution_count": null,
   "id": "54253f07",
   "metadata": {},
   "outputs": [],
   "source": []
  }
 ],
 "metadata": {
  "kernelspec": {
   "display_name": "Python 3 (ipykernel)",
   "language": "python",
   "name": "python3"
  },
  "language_info": {
   "codemirror_mode": {
    "name": "ipython",
    "version": 3
   },
   "file_extension": ".py",
   "mimetype": "text/x-python",
   "name": "python",
   "nbconvert_exporter": "python",
   "pygments_lexer": "ipython3",
   "version": "3.11.4"
  }
 },
 "nbformat": 4,
 "nbformat_minor": 5
}
