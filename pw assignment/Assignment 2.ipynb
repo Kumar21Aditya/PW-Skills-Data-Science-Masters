{
 "cells": [
  {
   "cell_type": "raw",
   "id": "4fa9f97a",
   "metadata": {},
   "source": [
    "Q1. Which keyword is used to create a function? Create a function to return a list of odd numbers in the\n",
    "range of 1 to 25.\n",
    "\n",
    "Ans:-def() key word is used to create a funtion"
   ]
  },
  {
   "cell_type": "code",
   "execution_count": 4,
   "id": "9dbd1de1",
   "metadata": {},
   "outputs": [],
   "source": [
    "#1.Answer\n",
    "def test1(a):\n",
    "    n=[]\n",
    "    for i in a:\n",
    "        if i%2!=0:\n",
    "            n.append(i)\n",
    "    return n        "
   ]
  },
  {
   "cell_type": "code",
   "execution_count": 5,
   "id": "aa405b25",
   "metadata": {},
   "outputs": [
    {
     "data": {
      "text/plain": [
       "[1, 3, 5, 7, 9, 11, 13, 15, 17, 19, 21, 23, 25]"
      ]
     },
     "execution_count": 5,
     "metadata": {},
     "output_type": "execute_result"
    }
   ],
   "source": [
    "test1([1,2,3,4,5,6,7,8,9,10,11,12,13,14,15,16,17,18,19,20,21,22,23,24,25])"
   ]
  },
  {
   "cell_type": "code",
   "execution_count": 7,
   "id": "55341f20",
   "metadata": {},
   "outputs": [
    {
     "data": {
      "text/plain": [
       "[1, 3, 5, 7, 9, 11, 13, 15, 17, 19, 21, 23, 25]"
      ]
     },
     "execution_count": 7,
     "metadata": {},
     "output_type": "execute_result"
    }
   ],
   "source": [
    "test1(range(1,26))"
   ]
  },
  {
   "cell_type": "raw",
   "id": "204407c2",
   "metadata": {},
   "source": [
    "Q2. Why *args and **kwargs is used in some functions? Create a function each for *args and **kwargs to\n",
    "demonstrate their use.\n",
    "\n",
    "Ans:-*args is used as a parameter inside the funtion which allow the user to take n no.of inputs where **kwargs allow the users\n",
    "     to take also n number of input but in key and value format.\n",
    "        "
   ]
  },
  {
   "cell_type": "code",
   "execution_count": 8,
   "id": "0c7628b9",
   "metadata": {},
   "outputs": [],
   "source": [
    "#2.Example\n",
    "def test2(*args):\n",
    "    return args"
   ]
  },
  {
   "cell_type": "code",
   "execution_count": 9,
   "id": "2867b748",
   "metadata": {},
   "outputs": [
    {
     "data": {
      "text/plain": [
       "(1, 2, 3, 4)"
      ]
     },
     "execution_count": 9,
     "metadata": {},
     "output_type": "execute_result"
    }
   ],
   "source": [
    "test2(1,2,3,4)"
   ]
  },
  {
   "cell_type": "code",
   "execution_count": 11,
   "id": "ff18cc36",
   "metadata": {},
   "outputs": [],
   "source": [
    "#2.Example\n",
    "def test3(**kwargs):\n",
    "    return kwargs"
   ]
  },
  {
   "cell_type": "code",
   "execution_count": 13,
   "id": "f6924df3",
   "metadata": {},
   "outputs": [
    {
     "data": {
      "text/plain": [
       "{'a': 3, 'b': [1, 2, 3, 4], 'c': (1, 2, 3, 4)}"
      ]
     },
     "execution_count": 13,
     "metadata": {},
     "output_type": "execute_result"
    }
   ],
   "source": [
    "test3(a=3,b=[1,2,3,4],c=(1,2,3,4))"
   ]
  },
  {
   "cell_type": "raw",
   "id": "e416c4b1",
   "metadata": {},
   "source": [
    "Q3. What is an iterator in python? Name the method used to initialise the iterator object and the method\n",
    "used for iteration. Use these methods to print the first five elements of the given list [2, 4, 6, 8, 10, 12, 14, 16,18, 20].\n",
    "\n",
    "Ans:-\n",
    "An iterator in Python is an object that allows you to traverse through a sequence of elements, one at a time, without having to\n",
    "load the entire sequence into memory. You can create an iterator object using the iter() function, and you can iterate through\n",
    "it using the next() function."
   ]
  },
  {
   "cell_type": "code",
   "execution_count": 16,
   "id": "0145af6e",
   "metadata": {},
   "outputs": [],
   "source": [
    "def print_first_five_elements(input_list):\n",
    "    # Create an iterator object for the list\n",
    "    iterator = iter(input_list)\n",
    "    \n",
    "    # Iterate and print the first five elements\n",
    "    for _ in range(5):\n",
    "        try:\n",
    "            element = next(iterator)\n",
    "            print(element)\n",
    "        except StopIteration:\n",
    "            # If the iterator is exhausted, break out of the loop\n",
    "            break\n",
    "\n",
    "\n"
   ]
  },
  {
   "cell_type": "code",
   "execution_count": 17,
   "id": "d1eceb74",
   "metadata": {},
   "outputs": [
    {
     "name": "stdout",
     "output_type": "stream",
     "text": [
      "2\n",
      "4\n",
      "6\n",
      "8\n",
      "10\n"
     ]
    }
   ],
   "source": [
    "# Given list\n",
    "my_list = [2, 4, 6, 8, 10, 12, 14, 16, 18, 20]\n",
    "\n",
    "# Call the function to print the first five elements\n",
    "print_first_five_elements(my_list)"
   ]
  },
  {
   "cell_type": "raw",
   "id": "f72ab611",
   "metadata": {},
   "source": [
    "Q4. What is a generator function in python? Why yield keyword is used? Give an example of a generator function.\n",
    "\n",
    "Ans:- generator function in Python is a special type of function that contains one or more yield statements. Unlike regular\n",
    "    functions that use return to produce a single result, generator functions use yield to produce a sequence of values one at\n",
    "    a time. When called, a generator function returns a generator iterator, which can be used to iterate over the values \n",
    "    produced by the yield statements"
   ]
  },
  {
   "cell_type": "code",
   "execution_count": 18,
   "id": "8ef6b75f",
   "metadata": {},
   "outputs": [],
   "source": [
    "def generate_even_numbers(limit):\n",
    "    num = 0\n",
    "    while num < limit:\n",
    "        yield num\n",
    "        num += 2"
   ]
  },
  {
   "cell_type": "code",
   "execution_count": 19,
   "id": "93ad2ca0",
   "metadata": {},
   "outputs": [
    {
     "name": "stdout",
     "output_type": "stream",
     "text": [
      "0\n",
      "2\n",
      "4\n",
      "6\n",
      "8\n"
     ]
    }
   ],
   "source": [
    "# Create a generator iterator\n",
    "even_generator = generate_even_numbers(10)\n",
    "\n",
    "# Iterate and print even numbers up to 10\n",
    "for num in even_generator:\n",
    "    print(num)"
   ]
  },
  {
   "cell_type": "raw",
   "id": "fb14ffb5",
   "metadata": {},
   "source": [
    "Q5. Create a generator function for prime numbers less than 1000. Use the next() method to print the\n",
    "first 20 prime numbers."
   ]
  },
  {
   "cell_type": "code",
   "execution_count": 20,
   "id": "0fe16654",
   "metadata": {},
   "outputs": [
    {
     "name": "stdout",
     "output_type": "stream",
     "text": [
      "2\n",
      "3\n",
      "5\n",
      "7\n",
      "11\n",
      "13\n",
      "17\n",
      "19\n",
      "23\n",
      "29\n",
      "31\n",
      "37\n",
      "41\n",
      "43\n",
      "47\n",
      "53\n",
      "59\n",
      "61\n",
      "67\n",
      "71\n"
     ]
    }
   ],
   "source": [
    "def is_prime(number):\n",
    "    if number <= 1:\n",
    "        return False\n",
    "    if number <= 3:\n",
    "        return True\n",
    "    if number % 2 == 0 or number % 3 == 0:\n",
    "        return False\n",
    "    i = 5\n",
    "    while i * i <= number:\n",
    "        if number % i == 0 or number % (i + 2) == 0:\n",
    "            return False\n",
    "        i += 6\n",
    "    return True\n",
    "\n",
    "def generate_primes(limit):\n",
    "    num = 2\n",
    "    count = 0\n",
    "    while num < limit:\n",
    "        if is_prime(num):\n",
    "            yield num\n",
    "            count += 1\n",
    "            if count == 20:  # Stop after generating the first 20 prime numbers\n",
    "                break\n",
    "        num += 1\n",
    "\n",
    "# Create a generator iterator\n",
    "prime_generator = generate_primes(1000)\n",
    "\n",
    "# Use next() to print the first 20 prime numbers\n",
    "for _ in range(20):\n",
    "    prime = next(prime_generator)\n",
    "    print(prime)\n"
   ]
  },
  {
   "cell_type": "code",
   "execution_count": null,
   "id": "0551e417",
   "metadata": {},
   "outputs": [],
   "source": []
  }
 ],
 "metadata": {
  "kernelspec": {
   "display_name": "Python 3 (ipykernel)",
   "language": "python",
   "name": "python3"
  },
  "language_info": {
   "codemirror_mode": {
    "name": "ipython",
    "version": 3
   },
   "file_extension": ".py",
   "mimetype": "text/x-python",
   "name": "python",
   "nbconvert_exporter": "python",
   "pygments_lexer": "ipython3",
   "version": "3.11.4"
  }
 },
 "nbformat": 4,
 "nbformat_minor": 5
}
