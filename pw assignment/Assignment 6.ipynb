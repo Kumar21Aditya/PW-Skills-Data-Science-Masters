{
 "cells": [
  {
   "cell_type": "raw",
   "id": "41648971",
   "metadata": {},
   "source": [
    "1. Write a program to accept percentage from the user and display the grade according to the following\n",
    "criteria:\n",
    "    >90 -A\n",
    "    >80 and <=90 -B\n",
    "    >=60 and <=80 -c\n",
    "    below 60 D"
   ]
  },
  {
   "cell_type": "code",
   "execution_count": 2,
   "id": "ad6d0a8e",
   "metadata": {},
   "outputs": [
    {
     "name": "stdout",
     "output_type": "stream",
     "text": [
      "Enter the marks you have obtained 67\n",
      "C\n"
     ]
    }
   ],
   "source": [
    "#1.Answer\n",
    "mark=int(input(\"Enter the marks you have obtained \"))\n",
    "if mark>90:\n",
    "    print(\"A\")\n",
    "elif mark>80 and mark<=90:\n",
    "    print(\"B\")\n",
    "elif mark>=60 and mark<=80:\n",
    "    print(\"C\")\n",
    "else:\n",
    "    print(\"D\")"
   ]
  },
  {
   "cell_type": "raw",
   "id": "0446ed6c",
   "metadata": {},
   "source": [
    "2 Write a program to accept the cost price of a bike and display the road tax to be paid according to the\n",
    "following criteria:\n",
    "\n",
    "     Tax              Cost\n",
    "     15%            >100000\n",
    "     10%        >50000 and <=100000\n",
    "     5%             <=50000"
   ]
  },
  {
   "cell_type": "code",
   "execution_count": 9,
   "id": "a9cd7251",
   "metadata": {},
   "outputs": [
    {
     "name": "stdout",
     "output_type": "stream",
     "text": [
      "Enter the cost of your bike55000\n",
      "You have to pay 5500.0\n"
     ]
    }
   ],
   "source": [
    "cost=int(input(\"Enter the cost of your bike\"))\n",
    "if cost>100000:\n",
    "    print(\"You have to pay {}\".format(cost*0.15))\n",
    "elif cost >50000 and  cost<=100000:\n",
    "    print(f\"You have to pay {cost*0.10}\")\n",
    "else:\n",
    "    print(\"You have to pay {amount}\".format(amount=cost*0.05))"
   ]
  },
  {
   "cell_type": "raw",
   "id": "fb5fd215",
   "metadata": {},
   "source": [
    "3. Accept any city from the user and display monuments of that city.\n",
    "\n",
    "    CITY           MONUMENT\n",
    "    Delhi         Red Fort\n",
    "    Agra          Taj Mahal\n",
    "    Jaipur        Jal Mahal"
   ]
  },
  {
   "cell_type": "code",
   "execution_count": 12,
   "id": "f5ac20ed",
   "metadata": {},
   "outputs": [
    {
     "name": "stdout",
     "output_type": "stream",
     "text": [
      "Enter the city nameJaipur\n",
      "Monument name is Jal Mahal\n"
     ]
    }
   ],
   "source": [
    "city=str(input(\"Enter the city name\"))\n",
    "if city==\"Delhi\":\n",
    "    print(\"Monument name is Red Fort\")\n",
    "elif city==\"Agra\":\n",
    "    print(\"Monument name is Taj Mahal\")\n",
    "elif city==\"Jaipur\":\n",
    "    print(\"Monument name is Jal Mahal\")\n",
    "else:\n",
    "    print(\"Invalid City name\")"
   ]
  },
  {
   "cell_type": "raw",
   "id": "1bd43a97",
   "metadata": {},
   "source": [
    "4.Check how many times a given number can be divided by 3 before it is less than or equal to 10.\n"
   ]
  },
  {
   "cell_type": "code",
   "execution_count": 13,
   "id": "172e098a",
   "metadata": {},
   "outputs": [
    {
     "name": "stdout",
     "output_type": "stream",
     "text": [
      "Enter a number: 243\n",
      "The number can be divided by 3 3 times before it is less than or equal to 10.\n"
     ]
    }
   ],
   "source": [
    "\n",
    "number = int(input(\"Enter a number: \"))\n",
    "count = 0\n",
    "while number > 10:\n",
    "    number /= 3  \n",
    "    count += 1    \n",
    "\n",
    "# Print the number of divisions\n",
    "print(f\"The number can be divided by 3 {count} times before it is less than or equal to 10.\")\n"
   ]
  },
  {
   "cell_type": "raw",
   "id": "1c0c14eb",
   "metadata": {},
   "source": [
    "5. Why and When to Use while Loop in Python give a detailed description with example\n",
    "Ans:-A while loop in Python is used to repeatedly execute a block of code as long as a specified condition remains true. It is suitable for situations where you want to continue executing a set of statements until a certain condition is no longer me"
   ]
  },
  {
   "cell_type": "raw",
   "id": "957abd4d",
   "metadata": {},
   "source": [
    "6. Use nested while loop to print 3 different pattern.\n"
   ]
  },
  {
   "cell_type": "code",
   "execution_count": 14,
   "id": "0513d34c",
   "metadata": {},
   "outputs": [
    {
     "name": "stdout",
     "output_type": "stream",
     "text": [
      "* \n",
      "* * \n",
      "* * * \n",
      "* * * * \n",
      "* * * * * \n"
     ]
    }
   ],
   "source": [
    "# Pattern 1 - Right Triangle Pattern\n",
    "n = 5\n",
    "i = 1\n",
    "while i <= n:\n",
    "    j = 1\n",
    "    while j <= i:\n",
    "        print(\"*\", end=\" \")\n",
    "        j += 1\n",
    "    print()\n",
    "    i += 1\n"
   ]
  },
  {
   "cell_type": "code",
   "execution_count": 15,
   "id": "0b7bd190",
   "metadata": {},
   "outputs": [
    {
     "name": "stdout",
     "output_type": "stream",
     "text": [
      "* * * * * \n",
      "* * * * \n",
      "* * * \n",
      "* * \n",
      "* \n"
     ]
    }
   ],
   "source": [
    "# Pattern 2 - Inverted Right Triangle Pattern\n",
    "n = 5\n",
    "i = 1\n",
    "while i <= n:\n",
    "    j = n\n",
    "    while j >= i:\n",
    "        print(\"*\", end=\" \")\n",
    "        j -= 1\n",
    "    print()\n",
    "    i += 1\n"
   ]
  },
  {
   "cell_type": "code",
   "execution_count": null,
   "id": "84dfa87e",
   "metadata": {},
   "outputs": [],
   "source": [
    "# Pattern 3 - Diamond Pattern\n",
    "n = 5\n",
    "i = 1\n",
    "while i <= n:\n",
    "    j = n\n",
    "    while j >= i:\n",
    "        print(\" \", end=\" \")\n",
    "        j -= 1\n",
    "    k = 1\n",
    "    while k <= i:\n",
    "        print(\"*\", end=\" \")\n",
    "        k += 1\n",
    "    print()\n",
    "    i += 1\n",
    "\n",
    "i = 1\n",
    "while i <= n:\n",
    "    j = 1\n",
    "    while j <= i:\n",
    "        print(\" \", end=\" \")\n",
    "        j += 1\n",
    "    k = n\n",
    "    while k >= i:\n",
    "        print(\"*\", end=\" \")\n",
    "        k -= 1\n",
    "    print()\n",
    "    i += 1\n"
   ]
  },
  {
   "cell_type": "raw",
   "id": "1eb78a6a",
   "metadata": {},
   "source": [
    "7. Reverse a while loop to display numbers from 10 to 1.\n"
   ]
  },
  {
   "cell_type": "code",
   "execution_count": 5,
   "id": "f4bec500",
   "metadata": {},
   "outputs": [
    {
     "name": "stdout",
     "output_type": "stream",
     "text": [
      "10\n",
      "9\n",
      "8\n",
      "7\n",
      "6\n",
      "5\n",
      "4\n",
      "3\n",
      "2\n",
      "1\n"
     ]
    }
   ],
   "source": [
    "n=10\n",
    "while n>=1:\n",
    "    print(n)\n",
    "    n=n-1\n",
    "   "
   ]
  },
  {
   "cell_type": "raw",
   "id": "5c64596d",
   "metadata": {},
   "source": [
    "8. Reverse a while loop to display numbers from 10 to 1\n"
   ]
  },
  {
   "cell_type": "code",
   "execution_count": 6,
   "id": "a55a072a",
   "metadata": {},
   "outputs": [
    {
     "name": "stdout",
     "output_type": "stream",
     "text": [
      "10\n",
      "9\n",
      "8\n",
      "7\n",
      "6\n",
      "5\n",
      "4\n",
      "3\n",
      "2\n",
      "1\n"
     ]
    }
   ],
   "source": [
    "n=10\n",
    "while n>=1:\n",
    "    print(n)\n",
    "    n=n-1"
   ]
  },
  {
   "cell_type": "code",
   "execution_count": null,
   "id": "98614326",
   "metadata": {},
   "outputs": [],
   "source": []
  }
 ],
 "metadata": {
  "kernelspec": {
   "display_name": "Python 3 (ipykernel)",
   "language": "python",
   "name": "python3"
  },
  "language_info": {
   "codemirror_mode": {
    "name": "ipython",
    "version": 3
   },
   "file_extension": ".py",
   "mimetype": "text/x-python",
   "name": "python",
   "nbconvert_exporter": "python",
   "pygments_lexer": "ipython3",
   "version": "3.11.4"
  }
 },
 "nbformat": 4,
 "nbformat_minor": 5
}
