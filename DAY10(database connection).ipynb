{
 "cells": [
  {
   "cell_type": "code",
   "execution_count": 18,
   "id": "b3c0b48b",
   "metadata": {},
   "outputs": [
    {
     "name": "stdout",
     "output_type": "stream",
     "text": [
      "<mysql.connector.connection.MySQLConnection object at 0x000002214B245D50>\n",
      "('aditya',)\n",
      "('db1',)\n",
      "('giet',)\n",
      "('information_schema',)\n",
      "('my_database',)\n",
      "('mysql',)\n",
      "('new_schema',)\n",
      "('performance_schema',)\n",
      "('practice',)\n",
      "('school',)\n",
      "('sys',)\n"
     ]
    }
   ],
   "source": [
    "import mysql.connector\n",
    "\n",
    "\n",
    "mydb = mysql.connector.connect(\n",
    "    host=\"localhost\",\n",
    "    user=\"root\",\n",
    "    password=\"Aditya@2003\",\n",
    "    auth_plugin='mysql_native_password'\n",
    ")\n",
    "print(mydb)\n",
    "mycursor=mydb.cursor()\n",
    "mycursor.execute(\"SHOW DATABASES\")\n",
    "\n",
    "for x in mycursor:\n",
    "    print(x)"
   ]
  },
  {
   "cell_type": "code",
   "execution_count": 24,
   "id": "9fb82781",
   "metadata": {},
   "outputs": [
    {
     "name": "stdout",
     "output_type": "stream",
     "text": [
      "<mysql.connector.connection.MySQLConnection object at 0x000002214B2CDE50>\n"
     ]
    }
   ],
   "source": [
    "import mysql.connector\n",
    "\n",
    "mydb = mysql.connector.connect(\n",
    "    host=\"localhost\",\n",
    "    user=\"root\",\n",
    "    password=\"Aditya@2003\",\n",
    "    auth_plugin='mysql_native_password'\n",
    ")\n",
    "\n",
    "print(mydb)\n",
    "\n",
    "mycursor2 = mydb.cursor()\n",
    "\n",
    "# Create database if not exists\n",
    "mycursor2.execute(\"CREATE DATABASE IF NOT EXISTS OPPO_ENCO_BUDS2\")\n",
    "\n",
    "# Switch to the database\n",
    "mycursor2.execute(\"USE OPPO_ENCO_BUDS2\")\n",
    "\n",
    "# Create table if not exists in the specified database\n",
    "mycursor2.execute(\"CREATE TABLE IF NOT EXISTS new_table (c1 INT, c2 VARCHAR(34), c3 INT)\")\n",
    "\n",
    "mydb.close()\n"
   ]
  },
  {
   "cell_type": "code",
   "execution_count": 26,
   "id": "67c748c6",
   "metadata": {},
   "outputs": [
    {
     "name": "stdout",
     "output_type": "stream",
     "text": [
      "<mysql.connector.connection.MySQLConnection object at 0x0000022148EE53D0>\n"
     ]
    }
   ],
   "source": [
    "import mysql.connector\n",
    "\n",
    "\n",
    "mydb = mysql.connector.connect(\n",
    "    host=\"localhost\",\n",
    "    user=\"root\",\n",
    "    password=\"Aditya@2003\",\n",
    "    auth_plugin='mysql_native_password'\n",
    ")\n",
    "print(mydb)\n",
    "mycursor=mydb.cursor()\n",
    "mycursor.execute(\"INSERT INTO OPPO_ENCO_BUDS2.new_table values(34,35,36),(33,23,21),(23,56,87),(33,67,76) \")\n",
    "mydb.commit()\n",
    "mydb.close()"
   ]
  },
  {
   "cell_type": "code",
   "execution_count": 30,
   "id": "48418be4",
   "metadata": {},
   "outputs": [
    {
     "name": "stdout",
     "output_type": "stream",
     "text": [
      "<mysql.connector.connection.MySQLConnection object at 0x000002214B2EDA10>\n",
      "(34, '35', 36)\n",
      "(33, '23', 21)\n",
      "(23, '56', 87)\n",
      "(33, '67', 76)\n"
     ]
    }
   ],
   "source": [
    "import mysql.connector\n",
    "\n",
    "\n",
    "mydb = mysql.connector.connect(\n",
    "    host=\"localhost\",\n",
    "    user=\"root\",\n",
    "    password=\"Aditya@2003\",\n",
    "    auth_plugin='mysql_native_password'\n",
    ")\n",
    "print(mydb)\n",
    "mycursor=mydb.cursor()\n",
    "mycursor.execute(\"select * from OPPO_ENCO_BUDS2.new_table\")\n",
    "for i in mycursor.fetchall():\n",
    "    print(i)"
   ]
  },
  {
   "cell_type": "code",
   "execution_count": 11,
   "id": "b81a79a3",
   "metadata": {},
   "outputs": [
    {
     "name": "stdout",
     "output_type": "stream",
     "text": [
      "<mysql.connector.connection_cext.CMySQLConnection object at 0x000001DAFF0BEBD0>\n",
      "('aditya',)\n",
      "('db1',)\n",
      "('giet',)\n",
      "('information_schema',)\n",
      "('my_database',)\n",
      "('mysql',)\n",
      "('new_schema',)\n",
      "('oppo_enco_buds2',)\n",
      "('performance_schema',)\n",
      "('practice',)\n",
      "('school',)\n",
      "('sys',)\n"
     ]
    }
   ],
   "source": [
    "import mysql.connector\n",
    "mydb1=mysql.connector.connect(host=\"localhost\",\n",
    "    user=\"root\",\n",
    "    password=\"Aditya@2003\",\n",
    "    auth_plugin='mysql_native_password'\n",
    ")\n",
    "print(mydb1)\n",
    "mycursor=mydb1.cursor()\n",
    "mycursor.execute(\"SHOW DATABASES\")\n",
    "for i in mycursor:\n",
    "    print(i)"
   ]
  },
  {
   "cell_type": "code",
   "execution_count": null,
   "id": "958e13f7",
   "metadata": {},
   "outputs": [],
   "source": []
  }
 ],
 "metadata": {
  "kernelspec": {
   "display_name": "Python 3 (ipykernel)",
   "language": "python",
   "name": "python3"
  },
  "language_info": {
   "codemirror_mode": {
    "name": "ipython",
    "version": 3
   },
   "file_extension": ".py",
   "mimetype": "text/x-python",
   "name": "python",
   "nbconvert_exporter": "python",
   "pygments_lexer": "ipython3",
   "version": "3.11.4"
  }
 },
 "nbformat": 4,
 "nbformat_minor": 5
}
