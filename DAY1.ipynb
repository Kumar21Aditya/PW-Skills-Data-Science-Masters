{
 "cells": [
  {
   "cell_type": "code",
   "execution_count": 1,
   "id": "58deaeac",
   "metadata": {},
   "outputs": [
    {
     "data": {
      "text/plain": [
       "str"
      ]
     },
     "execution_count": 1,
     "metadata": {},
     "output_type": "execute_result"
    }
   ],
   "source": [
    "a=\"c\"\n",
    "type(a)"
   ]
  },
  {
   "cell_type": "code",
   "execution_count": 5,
   "id": "81b553a2",
   "metadata": {},
   "outputs": [],
   "source": [
    "x=int('123')"
   ]
  },
  {
   "cell_type": "code",
   "execution_count": 6,
   "id": "543bc2c3",
   "metadata": {},
   "outputs": [
    {
     "data": {
      "text/plain": [
       "int"
      ]
     },
     "execution_count": 6,
     "metadata": {},
     "output_type": "execute_result"
    }
   ],
   "source": [
    "type(x)"
   ]
  },
  {
   "cell_type": "code",
   "execution_count": 7,
   "id": "27a2ee0e",
   "metadata": {},
   "outputs": [
    {
     "name": "stdout",
     "output_type": "stream",
     "text": [
      "HII\n"
     ]
    }
   ],
   "source": [
    "print(\"HII\")"
   ]
  },
  {
   "cell_type": "code",
   "execution_count": 8,
   "id": "1ef9fd84",
   "metadata": {},
   "outputs": [
    {
     "name": "stdout",
     "output_type": "stream",
     "text": [
      "23\n"
     ]
    }
   ],
   "source": [
    "print(23)"
   ]
  },
  {
   "cell_type": "code",
   "execution_count": 9,
   "id": "d076204f",
   "metadata": {},
   "outputs": [
    {
     "name": "stdout",
     "output_type": "stream",
     "text": [
      "My age is 45\n"
     ]
    }
   ],
   "source": [
    "age=45\n",
    "print(\"My age is\",age)"
   ]
  },
  {
   "cell_type": "markdown",
   "id": "b32476d1",
   "metadata": {},
   "source": [
    "# Formating(f string)"
   ]
  },
  {
   "cell_type": "code",
   "execution_count": 11,
   "id": "7b3d8e47",
   "metadata": {},
   "outputs": [
    {
     "name": "stdout",
     "output_type": "stream",
     "text": [
      "My age is 45\n"
     ]
    }
   ],
   "source": [
    "print(f\"My age is {age}\")"
   ]
  },
  {
   "cell_type": "code",
   "execution_count": 13,
   "id": "6769fc5b",
   "metadata": {},
   "outputs": [
    {
     "name": "stdout",
     "output_type": "stream",
     "text": [
      "My name is adi and age is 20\n"
     ]
    }
   ],
   "source": [
    "name=\"adi\"\n",
    "age=20\n",
    "print(\"My name is {} and age is {}\".format(name,age))"
   ]
  },
  {
   "cell_type": "code",
   "execution_count": 14,
   "id": "9341677e",
   "metadata": {},
   "outputs": [
    {
     "name": "stdout",
     "output_type": "stream",
     "text": [
      "My name is adi and age is 20\n"
     ]
    }
   ],
   "source": [
    "print(\"My name is {abc} and age is {defg}\".format(defg=age,abc=name))"
   ]
  },
  {
   "cell_type": "markdown",
   "id": "2cb0f7e5",
   "metadata": {},
   "source": [
    "Control Flow\n",
    "Decisin making statement\n",
    "\n",
    "1.if\n",
    "2.if else\n",
    "3.if elif else\n",
    "4.Nested if\n",
    "5.single statement suite"
   ]
  },
  {
   "cell_type": "code",
   "execution_count": 15,
   "id": "e84f6fcd",
   "metadata": {},
   "outputs": [
    {
     "name": "stdout",
     "output_type": "stream",
     "text": [
      "You are eligible\n"
     ]
    }
   ],
   "source": [
    "age=18\n",
    "if age <18:\n",
    "    print(\"You are not eligble for vote\")\n",
    "else:\n",
    "    print(\"You are eligible\")"
   ]
  },
  {
   "cell_type": "code",
   "execution_count": 17,
   "id": "632168f1",
   "metadata": {},
   "outputs": [
    {
     "name": "stdout",
     "output_type": "stream",
     "text": [
      "Enter your age45\n",
      "You are eligible\n"
     ]
    }
   ],
   "source": [
    "age=int(input(\"Enter your age\"))\n",
    "if age <18:\n",
    "    print(\"You are not eligble for vote\")\n",
    "else:\n",
    "    print(\"You are eligible\")"
   ]
  },
  {
   "cell_type": "markdown",
   "id": "a9a72c7d",
   "metadata": {},
   "source": [
    "The default datatype of the input function is string"
   ]
  },
  {
   "cell_type": "code",
   "execution_count": 24,
   "id": "f3059c24",
   "metadata": {},
   "outputs": [
    {
     "name": "stdout",
     "output_type": "stream",
     "text": [
      "Enter the age67\n",
      "You are not young blood\n"
     ]
    }
   ],
   "source": [
    "age=int(input(\"Enter the age\"))\n",
    "if age>=18 and age<=45:\n",
    "    print(\"Young Blood\")\n",
    "else:\n",
    "    print(\"You are not young blood\")"
   ]
  },
  {
   "cell_type": "code",
   "execution_count": 26,
   "id": "50241364",
   "metadata": {},
   "outputs": [
    {
     "name": "stdout",
     "output_type": "stream",
     "text": [
      "Enter the price2000\n",
      "Final price is 1600.0\n"
     ]
    }
   ],
   "source": [
    "price=int(input(\"Enter the price\"))\n",
    "if price>1000:\n",
    "    print(\"Final price is\",price-(price*0.2))\n",
    "else:\n",
    "    print(\"Final price is\",price-(price*0.3))"
   ]
  },
  {
   "cell_type": "code",
   "execution_count": 30,
   "id": "28556989",
   "metadata": {},
   "outputs": [
    {
     "name": "stdout",
     "output_type": "stream",
     "text": [
      "Enter the price2999\n",
      "Congo you own a gift\n",
      "Final price is 2099.3\n"
     ]
    }
   ],
   "source": [
    "price=int(input(\"Enter the price\"))\n",
    "if price>3000:\n",
    "    print(\"Final price is\",price-(price*0.2))\n",
    "elif price>=2000 and price <=3000:\n",
    "    if price==2999:\n",
    "        print(\"Congo you own a gift\")\n",
    "    print(\"Final price is\",price-(price*0.3))\n",
    "else:\n",
    "    print(\"Final price is\",price-(price*0.4))\n",
    "          "
   ]
  },
  {
   "cell_type": "code",
   "execution_count": 39,
   "id": "d5872d22",
   "metadata": {},
   "outputs": [
    {
     "name": "stdout",
     "output_type": "stream",
     "text": [
      "Enter the value78\n",
      "Go to Home\n"
     ]
    }
   ],
   "source": [
    "val=int(input(\"Enter the value\"))\n",
    "if(val<99):print(\"Go to Home\")\n",
    "else:\n",
    "    print(\"no\")"
   ]
  },
  {
   "cell_type": "markdown",
   "id": "aaaf5196",
   "metadata": {},
   "source": [
    "Loop statement\n",
    "1.While loop\n",
    "2.for loop\n",
    "3.nested loop\n",
    "4.Loop control(break,continue,pass)"
   ]
  },
  {
   "cell_type": "code",
   "execution_count": 42,
   "id": "686af30a",
   "metadata": {},
   "outputs": [
    {
     "name": "stdout",
     "output_type": "stream",
     "text": [
      "26\n",
      "27\n",
      "28\n",
      "29\n",
      "30\n",
      "31\n",
      "32\n",
      "33\n",
      "34\n",
      "35\n",
      "36\n",
      "37\n",
      "38\n",
      "39\n",
      "40\n",
      "41\n",
      "42\n",
      "43\n",
      "44\n",
      "45\n",
      "46\n",
      "47\n",
      "48\n",
      "49\n",
      "50\n",
      "51\n",
      "52\n",
      "53\n",
      "54\n",
      "55\n",
      "56\n",
      "57\n",
      "58\n",
      "59\n",
      "60\n",
      "61\n",
      "Time for retirement\n"
     ]
    }
   ],
   "source": [
    "retirement_age=25\n",
    "while retirement_age<=60:\n",
    "    retirement_age=retirement_age+1\n",
    "    print(retirement_age)\n",
    "else:\n",
    "    print(\"Time for retirement\")\n",
    "    "
   ]
  },
  {
   "cell_type": "code",
   "execution_count": 45,
   "id": "29483d79",
   "metadata": {},
   "outputs": [
    {
     "name": "stdout",
     "output_type": "stream",
     "text": [
      "900\n",
      "800\n",
      "700\n",
      "600\n",
      "500\n",
      "400\n",
      "300\n",
      "200\n",
      "100\n",
      "0\n"
     ]
    }
   ],
   "source": [
    "amount=1000\n",
    "while amount!=0:\n",
    "    amount=amount-100\n",
    "    print(amount)\n"
   ]
  },
  {
   "cell_type": "code",
   "execution_count": 48,
   "id": "3c52d91b",
   "metadata": {},
   "outputs": [
    {
     "name": "stdout",
     "output_type": "stream",
     "text": [
      "1\n",
      "2\n",
      "3\n",
      "4\n"
     ]
    }
   ],
   "source": [
    "for i in range(1,5):\n",
    "    print(i)\n"
   ]
  },
  {
   "cell_type": "code",
   "execution_count": 55,
   "id": "fd113077",
   "metadata": {},
   "outputs": [
    {
     "name": "stdout",
     "output_type": "stream",
     "text": [
      "abd\n",
      "123\n",
      "true\n",
      "cat\n"
     ]
    }
   ],
   "source": [
    "lst=['abd',123,\"true\",\"cat\"]\n",
    "for i in lst:\n",
    "    print(i)"
   ]
  },
  {
   "cell_type": "code",
   "execution_count": 60,
   "id": "b3c3b290",
   "metadata": {},
   "outputs": [
    {
     "name": "stdout",
     "output_type": "stream",
     "text": [
      "mango\n",
      "banana\n",
      "cherry\n",
      "its a cherry\n"
     ]
    }
   ],
   "source": [
    "fruit=[\"mango\",\"banana\",\"cherry\",\"grapes\"]\n",
    "for i in fruit:\n",
    "    print(i)\n",
    "    if i==\"cherry\":\n",
    "        print(\"its a cherry\")\n",
    "        break\n",
    "  "
   ]
  },
  {
   "cell_type": "code",
   "execution_count": 61,
   "id": "b0ee3fde",
   "metadata": {},
   "outputs": [
    {
     "name": "stdout",
     "output_type": "stream",
     "text": [
      "M\n",
      "A\n",
      "N\n",
      "G\n",
      "O\n"
     ]
    }
   ],
   "source": [
    "fruit=\"MANGO\"\n",
    "for i in fruit:\n",
    "    print(i)"
   ]
  },
  {
   "cell_type": "code",
   "execution_count": 63,
   "id": "b86deda9",
   "metadata": {},
   "outputs": [
    {
     "name": "stdout",
     "output_type": "stream",
     "text": [
      "A\n",
      "N\n",
      "M\n"
     ]
    }
   ],
   "source": [
    "print(fruit[1])\n",
    "print(fruit[2])\n",
    "print(fruit[0])"
   ]
  },
  {
   "cell_type": "code",
   "execution_count": 65,
   "id": "751b9bd5",
   "metadata": {},
   "outputs": [
    {
     "data": {
      "text/plain": [
       "range(1, 6)"
      ]
     },
     "execution_count": 65,
     "metadata": {},
     "output_type": "execute_result"
    }
   ],
   "source": [
    "range(1,6)"
   ]
  },
  {
   "cell_type": "code",
   "execution_count": 68,
   "id": "a0207977",
   "metadata": {},
   "outputs": [
    {
     "name": "stdout",
     "output_type": "stream",
     "text": [
      "1\n",
      "2\n",
      "3\n",
      "4\n",
      "5\n",
      "6\n"
     ]
    }
   ],
   "source": [
    "n=7\n",
    "for i in range(1,n):\n",
    "    print(i)"
   ]
  },
  {
   "cell_type": "code",
   "execution_count": 69,
   "id": "a97423b8",
   "metadata": {},
   "outputs": [
    {
     "name": "stdout",
     "output_type": "stream",
     "text": [
      "11\n",
      "13\n",
      "15\n",
      "17\n"
     ]
    }
   ],
   "source": [
    "for i in range(11,19,2):\n",
    "    print(i)"
   ]
  },
  {
   "cell_type": "code",
   "execution_count": 72,
   "id": "cbb30ea9",
   "metadata": {},
   "outputs": [
    {
     "name": "stdout",
     "output_type": "stream",
     "text": [
      "*\r\n",
      "**\r\n",
      "***\r\n",
      "****\r\n",
      "*****\r\n",
      "******\r\n",
      "*******\r\n"
     ]
    }
   ],
   "source": [
    "n=7\n",
    "for i in range(0,n):\n",
    "    for j in range(0,i+1):\n",
    "        print(\"*\",end=\"\")\n",
    "    print(\"\\r\")    "
   ]
  },
  {
   "cell_type": "code",
   "execution_count": 78,
   "id": "6006bf45",
   "metadata": {},
   "outputs": [
    {
     "name": "stdout",
     "output_type": "stream",
     "text": [
      "**\r\n",
      "***\r\n",
      "****\r\n",
      "*****\r\n",
      "******\r\n",
      "*******\r\n"
     ]
    }
   ],
   "source": [
    "n=7\n",
    "for i in range(1,n):\n",
    "    for j in range(1,i+2):\n",
    "        print(\"*\",end=\"\")\n",
    "    print(\"\\r\")    "
   ]
  },
  {
   "cell_type": "code",
   "execution_count": 81,
   "id": "85719f4c",
   "metadata": {},
   "outputs": [
    {
     "name": "stdout",
     "output_type": "stream",
     "text": [
      "1\n",
      "its 2\n"
     ]
    }
   ],
   "source": [
    "lst=[1,2,3,4,5]\n",
    "for i in lst:\n",
    "    if i==2:\n",
    "        print(\"its 2\")\n",
    "        break\n",
    "    print(i)        "
   ]
  },
  {
   "cell_type": "code",
   "execution_count": 82,
   "id": "f922dc67",
   "metadata": {},
   "outputs": [
    {
     "name": "stdout",
     "output_type": "stream",
     "text": [
      "1\n",
      "its 2\n",
      "3\n",
      "4\n",
      "5\n"
     ]
    }
   ],
   "source": [
    "lst=[1,2,3,4,5]\n",
    "for i in lst:\n",
    "    if i==2:\n",
    "        print(\"its 2\")\n",
    "        continue\n",
    "    print(i) "
   ]
  },
  {
   "cell_type": "code",
   "execution_count": null,
   "id": "064c1847",
   "metadata": {},
   "outputs": [],
   "source": []
  }
 ],
 "metadata": {
  "kernelspec": {
   "display_name": "Python 3 (ipykernel)",
   "language": "python",
   "name": "python3"
  },
  "language_info": {
   "codemirror_mode": {
    "name": "ipython",
    "version": 3
   },
   "file_extension": ".py",
   "mimetype": "text/x-python",
   "name": "python",
   "nbconvert_exporter": "python",
   "pygments_lexer": "ipython3",
   "version": "3.11.4"
  }
 },
 "nbformat": 4,
 "nbformat_minor": 5
}
