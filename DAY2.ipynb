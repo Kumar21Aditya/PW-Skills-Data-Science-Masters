{
 "cells": [
  {
   "cell_type": "raw",
   "id": "d9950f73",
   "metadata": {},
   "source": [
    "Logical Operator\n",
    "1.And\n",
    "2.Or\n",
    "3.Not"
   ]
  },
  {
   "cell_type": "code",
   "execution_count": 1,
   "id": "3ae326b4",
   "metadata": {},
   "outputs": [
    {
     "data": {
      "text/plain": [
       "True"
      ]
     },
     "execution_count": 1,
     "metadata": {},
     "output_type": "execute_result"
    }
   ],
   "source": [
    "True and True"
   ]
  },
  {
   "cell_type": "code",
   "execution_count": 2,
   "id": "4b5d7937",
   "metadata": {},
   "outputs": [
    {
     "data": {
      "text/plain": [
       "False"
      ]
     },
     "execution_count": 2,
     "metadata": {},
     "output_type": "execute_result"
    }
   ],
   "source": [
    "True and False"
   ]
  },
  {
   "cell_type": "code",
   "execution_count": 3,
   "id": "97087b8e",
   "metadata": {},
   "outputs": [
    {
     "data": {
      "text/plain": [
       "True"
      ]
     },
     "execution_count": 3,
     "metadata": {},
     "output_type": "execute_result"
    }
   ],
   "source": [
    "True or False"
   ]
  },
  {
   "cell_type": "code",
   "execution_count": 4,
   "id": "9ad1cadb",
   "metadata": {},
   "outputs": [
    {
     "name": "stdout",
     "output_type": "stream",
     "text": [
      "True\n",
      "False\n"
     ]
    }
   ],
   "source": [
    "start=True\n",
    "stop=False\n",
    "print(start)\n",
    "print(not start)"
   ]
  },
  {
   "cell_type": "code",
   "execution_count": 5,
   "id": "d7e10712",
   "metadata": {},
   "outputs": [
    {
     "data": {
      "text/plain": [
       "False"
      ]
     },
     "execution_count": 5,
     "metadata": {},
     "output_type": "execute_result"
    }
   ],
   "source": [
    "not True"
   ]
  },
  {
   "cell_type": "code",
   "execution_count": 6,
   "id": "81a9c5ba",
   "metadata": {},
   "outputs": [
    {
     "data": {
      "text/plain": [
       "False"
      ]
     },
     "execution_count": 6,
     "metadata": {},
     "output_type": "execute_result"
    }
   ],
   "source": [
    "bool(0)"
   ]
  },
  {
   "cell_type": "code",
   "execution_count": 7,
   "id": "26e13123",
   "metadata": {},
   "outputs": [
    {
     "data": {
      "text/plain": [
       "True"
      ]
     },
     "execution_count": 7,
     "metadata": {},
     "output_type": "execute_result"
    }
   ],
   "source": [
    "bool(1)"
   ]
  },
  {
   "cell_type": "code",
   "execution_count": 8,
   "id": "037bb096",
   "metadata": {},
   "outputs": [
    {
     "data": {
      "text/plain": [
       "True"
      ]
     },
     "execution_count": 8,
     "metadata": {},
     "output_type": "execute_result"
    }
   ],
   "source": [
    "not bool(0)"
   ]
  },
  {
   "cell_type": "code",
   "execution_count": 9,
   "id": "e483bcf5",
   "metadata": {},
   "outputs": [
    {
     "data": {
      "text/plain": [
       "False"
      ]
     },
     "execution_count": 9,
     "metadata": {},
     "output_type": "execute_result"
    }
   ],
   "source": [
    "not(bool(1))"
   ]
  },
  {
   "cell_type": "code",
   "execution_count": 10,
   "id": "6c294dda",
   "metadata": {},
   "outputs": [
    {
     "data": {
      "text/plain": [
       "True"
      ]
     },
     "execution_count": 10,
     "metadata": {},
     "output_type": "execute_result"
    }
   ],
   "source": [
    "not(int(bool(0)))"
   ]
  },
  {
   "cell_type": "code",
   "execution_count": 11,
   "id": "119a7234",
   "metadata": {},
   "outputs": [
    {
     "data": {
      "text/plain": [
       "True"
      ]
     },
     "execution_count": 11,
     "metadata": {},
     "output_type": "execute_result"
    }
   ],
   "source": [
    "not 0"
   ]
  },
  {
   "cell_type": "code",
   "execution_count": 12,
   "id": "9eb3b25c",
   "metadata": {},
   "outputs": [
    {
     "data": {
      "text/plain": [
       "1"
      ]
     },
     "execution_count": 12,
     "metadata": {},
     "output_type": "execute_result"
    }
   ],
   "source": [
    "int(not 0)"
   ]
  },
  {
   "cell_type": "code",
   "execution_count": 13,
   "id": "c468a1b6",
   "metadata": {},
   "outputs": [
    {
     "data": {
      "text/plain": [
       "False"
      ]
     },
     "execution_count": 13,
     "metadata": {},
     "output_type": "execute_result"
    }
   ],
   "source": [
    "not(-2)"
   ]
  },
  {
   "cell_type": "code",
   "execution_count": 14,
   "id": "6e1a653e",
   "metadata": {},
   "outputs": [
    {
     "data": {
      "text/plain": [
       "True"
      ]
     },
     "execution_count": 14,
     "metadata": {},
     "output_type": "execute_result"
    }
   ],
   "source": [
    "bool(-2)"
   ]
  },
  {
   "cell_type": "code",
   "execution_count": 18,
   "id": "93fea67e",
   "metadata": {},
   "outputs": [
    {
     "name": "stdout",
     "output_type": "stream",
     "text": [
      "Boolean value of no 0 is False\n",
      "boolean value of no 1 is True\n",
      "negation of 0 is True and negation of 1 is False\n"
     ]
    }
   ],
   "source": [
    "zero=0\n",
    "one=1\n",
    "\n",
    "print(f\"Boolean value of no {zero} is {bool(zero)}\")\n",
    "print(f\"boolean value of no {one} is {bool(one)}\")\n",
    "print(f\"negation of {zero} is {not zero} and negation of {one} is {not one}\")"
   ]
  },
  {
   "cell_type": "code",
   "execution_count": 19,
   "id": "5e41a773",
   "metadata": {},
   "outputs": [
    {
     "name": "stdout",
     "output_type": "stream",
     "text": [
      "True\n",
      "False\n",
      "False\n"
     ]
    }
   ],
   "source": [
    "#Logical And\n",
    "a=True\n",
    "b=False\n",
    "c=a and b\n",
    "print(a)\n",
    "print(b)\n",
    "print(c)"
   ]
  },
  {
   "cell_type": "code",
   "execution_count": 20,
   "id": "2c4f257f",
   "metadata": {},
   "outputs": [
    {
     "data": {
      "text/plain": [
       "1"
      ]
     },
     "execution_count": 20,
     "metadata": {},
     "output_type": "execute_result"
    }
   ],
   "source": [
    "True * True\n"
   ]
  },
  {
   "cell_type": "code",
   "execution_count": 21,
   "id": "91e12ea6",
   "metadata": {},
   "outputs": [
    {
     "data": {
      "text/plain": [
       "0"
      ]
     },
     "execution_count": 21,
     "metadata": {},
     "output_type": "execute_result"
    }
   ],
   "source": [
    "True*False"
   ]
  },
  {
   "cell_type": "code",
   "execution_count": 22,
   "id": "3fe547db",
   "metadata": {},
   "outputs": [
    {
     "data": {
      "text/plain": [
       "0"
      ]
     },
     "execution_count": 22,
     "metadata": {},
     "output_type": "execute_result"
    }
   ],
   "source": [
    "False*False"
   ]
  },
  {
   "cell_type": "code",
   "execution_count": 23,
   "id": "33edf6b7",
   "metadata": {},
   "outputs": [
    {
     "data": {
      "text/plain": [
       "True"
      ]
     },
     "execution_count": 23,
     "metadata": {},
     "output_type": "execute_result"
    }
   ],
   "source": [
    "not True*False"
   ]
  },
  {
   "cell_type": "code",
   "execution_count": 27,
   "id": "ab03e718",
   "metadata": {},
   "outputs": [
    {
     "data": {
      "text/plain": [
       "True"
      ]
     },
     "execution_count": 27,
     "metadata": {},
     "output_type": "execute_result"
    }
   ],
   "source": [
    "not False*True\n",
    "#according to the precedence\n",
    "#First False*True then not will be performed"
   ]
  },
  {
   "cell_type": "code",
   "execution_count": 28,
   "id": "650f2c22",
   "metadata": {},
   "outputs": [
    {
     "name": "stdout",
     "output_type": "stream",
     "text": [
      "0\n"
     ]
    }
   ],
   "source": [
    "print((not(False))*False)"
   ]
  },
  {
   "cell_type": "code",
   "execution_count": 29,
   "id": "c05703e9",
   "metadata": {},
   "outputs": [
    {
     "data": {
      "text/plain": [
       "True"
      ]
     },
     "execution_count": 29,
     "metadata": {},
     "output_type": "execute_result"
    }
   ],
   "source": [
    "not(False*True)"
   ]
  },
  {
   "cell_type": "code",
   "execution_count": 30,
   "id": "2af8fdee",
   "metadata": {},
   "outputs": [
    {
     "data": {
      "text/plain": [
       "False"
      ]
     },
     "execution_count": 30,
     "metadata": {},
     "output_type": "execute_result"
    }
   ],
   "source": [
    "lst_a=[1,2,3,4]\n",
    "lst_b=[5,2,7,4]\n",
    "lst_a==lst_b"
   ]
  },
  {
   "cell_type": "code",
   "execution_count": 33,
   "id": "e815f6ff",
   "metadata": {},
   "outputs": [
    {
     "name": "stdout",
     "output_type": "stream",
     "text": [
      "2236024651648\n",
      "2236023943808\n"
     ]
    }
   ],
   "source": [
    "#Memory Location\n",
    "print(id(lst_a))\n",
    "print(id(lst_b))"
   ]
  },
  {
   "cell_type": "code",
   "execution_count": 34,
   "id": "12298a65",
   "metadata": {},
   "outputs": [
    {
     "data": {
      "text/plain": [
       "False"
      ]
     },
     "execution_count": 34,
     "metadata": {},
     "output_type": "execute_result"
    }
   ],
   "source": [
    "lst_a==lst_b"
   ]
  },
  {
   "cell_type": "code",
   "execution_count": 35,
   "id": "8902f303",
   "metadata": {},
   "outputs": [
    {
     "data": {
      "text/plain": [
       "True"
      ]
     },
     "execution_count": 35,
     "metadata": {},
     "output_type": "execute_result"
    }
   ],
   "source": [
    "lst_a!=lst_b"
   ]
  },
  {
   "cell_type": "code",
   "execution_count": 36,
   "id": "a0b14fec",
   "metadata": {},
   "outputs": [
    {
     "name": "stdout",
     "output_type": "stream",
     "text": [
      "140707179565896\n",
      "140707179565896\n"
     ]
    }
   ],
   "source": [
    "a=2\n",
    "b=2\n",
    "print(id(a))\n",
    "print(id(b))"
   ]
  },
  {
   "cell_type": "code",
   "execution_count": 37,
   "id": "f210cc60",
   "metadata": {},
   "outputs": [
    {
     "name": "stdout",
     "output_type": "stream",
     "text": [
      "140707179565896\n",
      "140707179565960\n"
     ]
    }
   ],
   "source": [
    "a=2\n",
    "b=4\n",
    "print(id(a))\n",
    "print(id(b))"
   ]
  },
  {
   "cell_type": "code",
   "execution_count": 38,
   "id": "5fa9b2c4",
   "metadata": {},
   "outputs": [
    {
     "data": {
      "text/plain": [
       "1"
      ]
     },
     "execution_count": 38,
     "metadata": {},
     "output_type": "execute_result"
    }
   ],
   "source": [
    "lst_a[0]"
   ]
  },
  {
   "cell_type": "code",
   "execution_count": 39,
   "id": "4d8b3bb5",
   "metadata": {},
   "outputs": [],
   "source": [
    "lst_a[0]=6"
   ]
  },
  {
   "cell_type": "code",
   "execution_count": 40,
   "id": "cf5585c1",
   "metadata": {},
   "outputs": [
    {
     "data": {
      "text/plain": [
       "[6, 2, 3, 4]"
      ]
     },
     "execution_count": 40,
     "metadata": {},
     "output_type": "execute_result"
    }
   ],
   "source": [
    "lst_a"
   ]
  },
  {
   "cell_type": "code",
   "execution_count": 41,
   "id": "f9cdea5d",
   "metadata": {},
   "outputs": [
    {
     "data": {
      "text/plain": [
       "'a'"
      ]
     },
     "execution_count": 41,
     "metadata": {},
     "output_type": "execute_result"
    }
   ],
   "source": [
    "str1=\"aditya\"\n",
    "str1[0]"
   ]
  },
  {
   "cell_type": "code",
   "execution_count": 43,
   "id": "ce6fc856",
   "metadata": {},
   "outputs": [
    {
     "ename": "TypeError",
     "evalue": "'str' object does not support item assignment",
     "output_type": "error",
     "traceback": [
      "\u001b[1;31m---------------------------------------------------------------------------\u001b[0m",
      "\u001b[1;31mTypeError\u001b[0m                                 Traceback (most recent call last)",
      "Cell \u001b[1;32mIn[43], line 1\u001b[0m\n\u001b[1;32m----> 1\u001b[0m str1[\u001b[38;5;241m0\u001b[39m]\u001b[38;5;241m=\u001b[39m\u001b[38;5;124m'\u001b[39m\u001b[38;5;124mD\u001b[39m\u001b[38;5;124m'\u001b[39m\n",
      "\u001b[1;31mTypeError\u001b[0m: 'str' object does not support item assignment"
     ]
    }
   ],
   "source": [
    "str1[0]='D'#strinng is immutable"
   ]
  },
  {
   "cell_type": "code",
   "execution_count": 44,
   "id": "dbb79ff0",
   "metadata": {},
   "outputs": [
    {
     "name": "stdout",
     "output_type": "stream",
     "text": [
      "True\n",
      "False\n"
     ]
    }
   ],
   "source": [
    "car=900\n",
    "cycle=50\n",
    "print(car>cycle)\n",
    "print(car<cycle)"
   ]
  },
  {
   "cell_type": "code",
   "execution_count": 48,
   "id": "3e9085d8",
   "metadata": {},
   "outputs": [
    {
     "name": "stdout",
     "output_type": "stream",
     "text": [
      "92\n",
      "86\n",
      "267\n",
      "29.666666666666668\n",
      "2\n"
     ]
    }
   ],
   "source": [
    "#Arithmetic Operator\n",
    "a=89\n",
    "b=3\n",
    "print(a+b)\n",
    "print(a-b)\n",
    "print(a*b)\n",
    "print(a/b)\n",
    "print(a%b)\n"
   ]
  },
  {
   "cell_type": "code",
   "execution_count": 49,
   "id": "8575e392",
   "metadata": {},
   "outputs": [],
   "source": [
    "#Bitwise Operator\n",
    "1.Bitwise complement(~)\n",
    "2.Bitwise And(&)\n",
    "3.Bitwise Or(|)\n",
    "4.<<\n",
    "5.>>"
   ]
  },
  {
   "cell_type": "code",
   "execution_count": 55,
   "id": "48a1bc44",
   "metadata": {},
   "outputs": [
    {
     "name": "stdout",
     "output_type": "stream",
     "text": [
      "0b100010\n",
      "68\n"
     ]
    }
   ],
   "source": [
    "var=34\n",
    "print(bin(var))\n",
    "print(var<<1)"
   ]
  },
  {
   "cell_type": "markdown",
   "id": "a9e8b3e2",
   "metadata": {},
   "source": [
    "# Strings"
   ]
  },
  {
   "cell_type": "code",
   "execution_count": 56,
   "id": "18bf6346",
   "metadata": {},
   "outputs": [],
   "source": [
    "#string is immutable"
   ]
  },
  {
   "cell_type": "code",
   "execution_count": 57,
   "id": "65deb304",
   "metadata": {},
   "outputs": [
    {
     "name": "stdout",
     "output_type": "stream",
     "text": [
      "HII ia am aditya\n"
     ]
    }
   ],
   "source": [
    "str1=\"HII ia am aditya\"\n",
    "print(str1)"
   ]
  },
  {
   "cell_type": "code",
   "execution_count": 58,
   "id": "d4141a42",
   "metadata": {},
   "outputs": [
    {
     "data": {
      "text/plain": [
       "'H'"
      ]
     },
     "execution_count": 58,
     "metadata": {},
     "output_type": "execute_result"
    }
   ],
   "source": [
    "str1[0]"
   ]
  },
  {
   "cell_type": "code",
   "execution_count": 59,
   "id": "372f21d8",
   "metadata": {},
   "outputs": [
    {
     "data": {
      "text/plain": [
       "'HII ia am aditya'"
      ]
     },
     "execution_count": 59,
     "metadata": {},
     "output_type": "execute_result"
    }
   ],
   "source": [
    "str1[::]"
   ]
  },
  {
   "cell_type": "code",
   "execution_count": 61,
   "id": "40af4557",
   "metadata": {},
   "outputs": [
    {
     "data": {
      "text/plain": [
       "'HII ia am aditya'"
      ]
     },
     "execution_count": 61,
     "metadata": {},
     "output_type": "execute_result"
    }
   ],
   "source": [
    "str1[:]"
   ]
  },
  {
   "cell_type": "code",
   "execution_count": 62,
   "id": "1f9b1c30",
   "metadata": {},
   "outputs": [
    {
     "data": {
      "text/plain": [
       "' ia '"
      ]
     },
     "execution_count": 62,
     "metadata": {},
     "output_type": "execute_result"
    }
   ],
   "source": [
    "str1[3:7]"
   ]
  },
  {
   "cell_type": "code",
   "execution_count": 65,
   "id": "8df9f849",
   "metadata": {},
   "outputs": [
    {
     "data": {
      "text/plain": [
       "'a am aditya'"
      ]
     },
     "execution_count": 65,
     "metadata": {},
     "output_type": "execute_result"
    }
   ],
   "source": [
    "str1[5:]"
   ]
  },
  {
   "cell_type": "code",
   "execution_count": 67,
   "id": "e4e5ed1e",
   "metadata": {},
   "outputs": [
    {
     "data": {
      "text/plain": [
       "'a'"
      ]
     },
     "execution_count": 67,
     "metadata": {},
     "output_type": "execute_result"
    }
   ],
   "source": [
    "str1[-1]"
   ]
  },
  {
   "cell_type": "code",
   "execution_count": 69,
   "id": "e435bef9",
   "metadata": {},
   "outputs": [
    {
     "data": {
      "text/plain": [
       "'HII ia am adity'"
      ]
     },
     "execution_count": 69,
     "metadata": {},
     "output_type": "execute_result"
    }
   ],
   "source": [
    "str1[:-1]"
   ]
  },
  {
   "cell_type": "code",
   "execution_count": 71,
   "id": "33600029",
   "metadata": {},
   "outputs": [
    {
     "data": {
      "text/plain": [
       "''"
      ]
     },
     "execution_count": 71,
     "metadata": {},
     "output_type": "execute_result"
    }
   ],
   "source": [
    "str1[-1:6]"
   ]
  },
  {
   "cell_type": "code",
   "execution_count": 76,
   "id": "b780effe",
   "metadata": {},
   "outputs": [
    {
     "data": {
      "text/plain": [
       "'I '"
      ]
     },
     "execution_count": 76,
     "metadata": {},
     "output_type": "execute_result"
    }
   ],
   "source": [
    "str1[-14:4]"
   ]
  },
  {
   "cell_type": "code",
   "execution_count": 80,
   "id": "848c1e60",
   "metadata": {},
   "outputs": [
    {
     "name": "stdout",
     "output_type": "stream",
     "text": [
      "sllikswp\n",
      "slkw\n",
      "psil\n"
     ]
    }
   ],
   "source": [
    "x=\"pwskills\"\n",
    "print(x[::-1])\n",
    "print(x[::-2])\n",
    "print(x[::2])"
   ]
  },
  {
   "cell_type": "code",
   "execution_count": 63,
   "id": "d57a9238",
   "metadata": {},
   "outputs": [
    {
     "data": {
      "text/plain": [
       "['__add__',\n",
       " '__class__',\n",
       " '__contains__',\n",
       " '__delattr__',\n",
       " '__dir__',\n",
       " '__doc__',\n",
       " '__eq__',\n",
       " '__format__',\n",
       " '__ge__',\n",
       " '__getattribute__',\n",
       " '__getitem__',\n",
       " '__getnewargs__',\n",
       " '__getstate__',\n",
       " '__gt__',\n",
       " '__hash__',\n",
       " '__init__',\n",
       " '__init_subclass__',\n",
       " '__iter__',\n",
       " '__le__',\n",
       " '__len__',\n",
       " '__lt__',\n",
       " '__mod__',\n",
       " '__mul__',\n",
       " '__ne__',\n",
       " '__new__',\n",
       " '__reduce__',\n",
       " '__reduce_ex__',\n",
       " '__repr__',\n",
       " '__rmod__',\n",
       " '__rmul__',\n",
       " '__setattr__',\n",
       " '__sizeof__',\n",
       " '__str__',\n",
       " '__subclasshook__',\n",
       " 'capitalize',\n",
       " 'casefold',\n",
       " 'center',\n",
       " 'count',\n",
       " 'encode',\n",
       " 'endswith',\n",
       " 'expandtabs',\n",
       " 'find',\n",
       " 'format',\n",
       " 'format_map',\n",
       " 'index',\n",
       " 'isalnum',\n",
       " 'isalpha',\n",
       " 'isascii',\n",
       " 'isdecimal',\n",
       " 'isdigit',\n",
       " 'isidentifier',\n",
       " 'islower',\n",
       " 'isnumeric',\n",
       " 'isprintable',\n",
       " 'isspace',\n",
       " 'istitle',\n",
       " 'isupper',\n",
       " 'join',\n",
       " 'ljust',\n",
       " 'lower',\n",
       " 'lstrip',\n",
       " 'maketrans',\n",
       " 'partition',\n",
       " 'removeprefix',\n",
       " 'removesuffix',\n",
       " 'replace',\n",
       " 'rfind',\n",
       " 'rindex',\n",
       " 'rjust',\n",
       " 'rpartition',\n",
       " 'rsplit',\n",
       " 'rstrip',\n",
       " 'split',\n",
       " 'splitlines',\n",
       " 'startswith',\n",
       " 'strip',\n",
       " 'swapcase',\n",
       " 'title',\n",
       " 'translate',\n",
       " 'upper',\n",
       " 'zfill']"
      ]
     },
     "execution_count": 63,
     "metadata": {},
     "output_type": "execute_result"
    }
   ],
   "source": [
    "dir(str1)"
   ]
  },
  {
   "cell_type": "code",
   "execution_count": 81,
   "id": "91318348",
   "metadata": {},
   "outputs": [
    {
     "data": {
      "text/plain": [
       "'SCIENCE'"
      ]
     },
     "execution_count": 81,
     "metadata": {},
     "output_type": "execute_result"
    }
   ],
   "source": [
    "course_name=\"DATA SCIENCE MASTERS\"\n",
    "course_name[5:12]"
   ]
  },
  {
   "cell_type": "code",
   "execution_count": 82,
   "id": "b72bafef",
   "metadata": {},
   "outputs": [
    {
     "data": {
      "text/plain": [
       "'ECNEICS'"
      ]
     },
     "execution_count": 82,
     "metadata": {},
     "output_type": "execute_result"
    }
   ],
   "source": [
    "course_name[11:4:-1]"
   ]
  },
  {
   "cell_type": "code",
   "execution_count": 84,
   "id": "afec7432",
   "metadata": {},
   "outputs": [
    {
     "data": {
      "text/plain": [
       "' ECNEIC'"
      ]
     },
     "execution_count": 84,
     "metadata": {},
     "output_type": "execute_result"
    }
   ],
   "source": [
    "course_name[12:5:-1]"
   ]
  },
  {
   "cell_type": "code",
   "execution_count": 85,
   "id": "0f67b4a5",
   "metadata": {},
   "outputs": [
    {
     "name": "stdout",
     "output_type": "stream",
     "text": [
      "helloworld\n"
     ]
    }
   ],
   "source": [
    "print(\"hello\"+\"world\")"
   ]
  },
  {
   "cell_type": "code",
   "execution_count": 87,
   "id": "749900ba",
   "metadata": {},
   "outputs": [
    {
     "name": "stdout",
     "output_type": "stream",
     "text": [
      "hello hello hello hello hello \n"
     ]
    }
   ],
   "source": [
    "print(\"hello \"*5)"
   ]
  },
  {
   "cell_type": "code",
   "execution_count": 88,
   "id": "a6fcd336",
   "metadata": {},
   "outputs": [
    {
     "data": {
      "text/plain": [
       "6"
      ]
     },
     "execution_count": 88,
     "metadata": {},
     "output_type": "execute_result"
    }
   ],
   "source": [
    "len(\"aditya\")"
   ]
  },
  {
   "cell_type": "code",
   "execution_count": 113,
   "id": "4e2064bc",
   "metadata": {},
   "outputs": [
    {
     "name": "stdout",
     "output_type": "stream",
     "text": [
      "1\n",
      "6\n"
     ]
    }
   ],
   "source": [
    "course=\"Hey Are You There\"\n",
    "print(course.find(\"e\"))\n",
    "print(course.find(\"e\",2,18))#position of \"e\" between 2nd and 18th index"
   ]
  },
  {
   "cell_type": "code",
   "execution_count": 114,
   "id": "7cee9f52",
   "metadata": {},
   "outputs": [
    {
     "data": {
      "text/plain": [
       "4"
      ]
     },
     "execution_count": 114,
     "metadata": {},
     "output_type": "execute_result"
    }
   ],
   "source": [
    "course.count('e')\n"
   ]
  },
  {
   "cell_type": "code",
   "execution_count": 115,
   "id": "35858b04",
   "metadata": {},
   "outputs": [
    {
     "name": "stdout",
     "output_type": "stream",
     "text": [
      "3\n",
      "18\n"
     ]
    }
   ],
   "source": [
    "print(course.count(' '))#Empty string\n",
    "print(course.count(''))"
   ]
  },
  {
   "cell_type": "code",
   "execution_count": 116,
   "id": "7735924c",
   "metadata": {},
   "outputs": [
    {
     "name": "stdout",
     "output_type": "stream",
     "text": [
      "2\n"
     ]
    }
   ],
   "source": [
    "print(course.count('e',2,16))"
   ]
  },
  {
   "cell_type": "code",
   "execution_count": 117,
   "id": "93087556",
   "metadata": {},
   "outputs": [
    {
     "data": {
      "text/plain": [
       "['Hey', 'Are', 'You', 'There']"
      ]
     },
     "execution_count": 117,
     "metadata": {},
     "output_type": "execute_result"
    }
   ],
   "source": [
    "#Split\n",
    "course.split(' ')"
   ]
  },
  {
   "cell_type": "code",
   "execution_count": 118,
   "id": "4b81a859",
   "metadata": {},
   "outputs": [
    {
     "data": {
      "text/plain": [
       "['H', 'y Ar', ' You Th', 'r', '']"
      ]
     },
     "execution_count": 118,
     "metadata": {},
     "output_type": "execute_result"
    }
   ],
   "source": [
    "course.split('e')#\"e\" is the separator here"
   ]
  },
  {
   "cell_type": "code",
   "execution_count": 119,
   "id": "ac6f625a",
   "metadata": {},
   "outputs": [
    {
     "data": {
      "text/plain": [
       "('H', 'e', 'y Are You There')"
      ]
     },
     "execution_count": 119,
     "metadata": {},
     "output_type": "execute_result"
    }
   ],
   "source": [
    "#Partition\n",
    "course.partition('e')"
   ]
  },
  {
   "cell_type": "code",
   "execution_count": 120,
   "id": "f5c39eb4",
   "metadata": {},
   "outputs": [
    {
     "data": {
      "text/plain": [
       "'HEY ARE YOU THERE'"
      ]
     },
     "execution_count": 120,
     "metadata": {},
     "output_type": "execute_result"
    }
   ],
   "source": [
    "#upper and lower\n",
    "course.upper()"
   ]
  },
  {
   "cell_type": "code",
   "execution_count": 121,
   "id": "c481ab7f",
   "metadata": {},
   "outputs": [
    {
     "data": {
      "text/plain": [
       "'hey are you there'"
      ]
     },
     "execution_count": 121,
     "metadata": {},
     "output_type": "execute_result"
    }
   ],
   "source": [
    "course.lower()"
   ]
  },
  {
   "cell_type": "code",
   "execution_count": 122,
   "id": "104583bf",
   "metadata": {},
   "outputs": [
    {
     "data": {
      "text/plain": [
       "'hEY aRE yOU tHERE'"
      ]
     },
     "execution_count": 122,
     "metadata": {},
     "output_type": "execute_result"
    }
   ],
   "source": [
    "course.swapcase()"
   ]
  },
  {
   "cell_type": "code",
   "execution_count": 123,
   "id": "ecca09dc",
   "metadata": {},
   "outputs": [
    {
     "data": {
      "text/plain": [
       "'Hey Are You There'"
      ]
     },
     "execution_count": 123,
     "metadata": {},
     "output_type": "execute_result"
    }
   ],
   "source": [
    "course.title()"
   ]
  },
  {
   "cell_type": "code",
   "execution_count": null,
   "id": "e2ed12df",
   "metadata": {},
   "outputs": [],
   "source": []
  }
 ],
 "metadata": {
  "kernelspec": {
   "display_name": "Python 3 (ipykernel)",
   "language": "python",
   "name": "python3"
  },
  "language_info": {
   "codemirror_mode": {
    "name": "ipython",
    "version": 3
   },
   "file_extension": ".py",
   "mimetype": "text/x-python",
   "name": "python",
   "nbconvert_exporter": "python",
   "pygments_lexer": "ipython3",
   "version": "3.11.4"
  }
 },
 "nbformat": 4,
 "nbformat_minor": 5
}
